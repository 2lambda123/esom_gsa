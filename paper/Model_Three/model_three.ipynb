{
 "cells": [
  {
   "cell_type": "code",
   "execution_count": null,
   "metadata": {},
   "outputs": [],
   "source": [
    "import pandas as pd\n",
    "import numpy as np\n",
    "import matplotlib.pyplot as plt\n",
    "import matplotlib.lines as mlines"
   ]
  },
  {
   "attachments": {},
   "cell_type": "markdown",
   "metadata": {},
   "source": [
    "# OSeMOSYS Global Capacity Expansion Results for Nepal"
   ]
  },
  {
   "attachments": {},
   "cell_type": "markdown",
   "metadata": {},
   "source": [
    "## Read in OSeMOSYS Results"
   ]
  },
  {
   "cell_type": "code",
   "execution_count": null,
   "metadata": {},
   "outputs": [],
   "source": [
    "annual_emissions = pd.read_csv('./model/Results/No_Emission_Limit/AnnualEmissions.csv')\n",
    "capital_investments = pd.read_csv('./model/Results/No_Emission_Limit/CapitalInvestment.csv')\n",
    "new_capacity = pd.read_csv('./model/Results/No_Emission_Limit/NewCapacity.csv')\n",
    "demand = pd.read_csv('./model/Results/No_Emission_Limit/Demand.csv')\n",
    "production_annual = pd.read_csv('./model/Results/No_Emission_Limit/ProductionByTechnologyAnnual.csv')\n",
    "total_capacity = pd.read_csv('./model/Results/No_Emission_Limit/TotalCapacityAnnual.csv')"
   ]
  },
  {
   "attachments": {},
   "cell_type": "markdown",
   "metadata": {},
   "source": [
    "## Filter and Aggregate Results"
   ]
  },
  {
   "cell_type": "code",
   "execution_count": null,
   "metadata": {},
   "outputs": [],
   "source": [
    "capital_investments = capital_investments.loc[capital_investments['TECHNOLOGY'].isin(['HYDRO', 'GAS', 'COAL'])].reset_index(drop=True)\n",
    "new_capacity = new_capacity.loc[new_capacity['TECHNOLOGY'].isin(['HYDRO', 'GAS', 'COAL'])].reset_index(drop=True)\n",
    "production_annual = production_annual.loc[production_annual['TECHNOLOGY'].isin(['HYDRO', 'GAS', 'COAL'])].reset_index(drop=True)\n",
    "total_capacity = total_capacity.loc[total_capacity['TECHNOLOGY'].isin(['HYDRO', 'GAS', 'COAL'])].reset_index(drop=True)\n",
    "demand = demand.groupby(by=['YEAR','FUEL','REGION']).sum().reset_index()"
   ]
  },
  {
   "attachments": {},
   "cell_type": "markdown",
   "metadata": {},
   "source": [
    "## Plot Results"
   ]
  },
  {
   "attachments": {},
   "cell_type": "markdown",
   "metadata": {},
   "source": [
    "### Installed Capacity "
   ]
  },
  {
   "cell_type": "code",
   "execution_count": null,
   "metadata": {},
   "outputs": [],
   "source": [
    "total_capacity_2 = total_capacity.pivot(index='YEAR',columns='TECHNOLOGY',values='VALUE')\n",
    "\n",
    "ax = total_capacity_2.plot.bar( \n",
    "    stacked=True,\n",
    "    legend='reverse',\n",
    "    color=['tab:purple','tab:orange','tab:blue']\n",
    ")\n",
    "\n",
    "ax.set_ylabel('CAPACITY (GW)')\n",
    "ax.set_xlabel('')\n",
    "plt.locator_params(axis='x', nbins=11)\n",
    "plt.xticks(rotation = -45)\n",
    "\n",
    "for label in ax.xaxis.get_ticklabels()[1::2]:\n",
    "    label.set_visible(False)"
   ]
  },
  {
   "attachments": {},
   "cell_type": "markdown",
   "metadata": {},
   "source": [
    "### Electricity Generation"
   ]
  },
  {
   "cell_type": "code",
   "execution_count": null,
   "metadata": {},
   "outputs": [],
   "source": [
    "def add_legend_line(legend):\n",
    "    ax = legend.axes\n",
    "\n",
    "    handles, labels = ax.get_legend_handles_labels()\n",
    "    handles.append(mlines.Line2D([],[],color='k'))\n",
    "    labels.append(\"Demand\")\n",
    "    for h,l in enumerate(labels):\n",
    "        if l == 'VALUE':\n",
    "            labels.remove(l)\n",
    "            del handles[h]\n",
    "\n",
    "    legend._legend_box = None\n",
    "    legend._init_legend_box(handles, labels)\n",
    "    legend._set_loc(legend._loc)\n",
    "    legend.set_title(legend.get_title().get_text())"
   ]
  },
  {
   "cell_type": "code",
   "execution_count": null,
   "metadata": {},
   "outputs": [],
   "source": [
    "production_annual_2 = production_annual.pivot(index='YEAR',columns='TECHNOLOGY',values='VALUE')\n",
    "\n",
    "ax = production_annual_2.plot.bar( \n",
    "    stacked=True,\n",
    "    legend='reverse',\n",
    "    color=['tab:orange','tab:blue']\n",
    ")\n",
    "\n",
    "xticks = ax.get_xticks()\n",
    "\n",
    "demand['VALUE'].plot(\n",
    "    x=xticks,\n",
    "    ax=ax,\n",
    "    color='k')\n",
    "\n",
    "ax.set_ylabel('GENERATION (PJ)')\n",
    "ax.set_xlabel('')\n",
    "plt.locator_params(axis='x', nbins=11)\n",
    "plt.xticks(rotation = -45)\n",
    "\n",
    "for label in ax.xaxis.get_ticklabels()[1::2]:\n",
    "    label.set_visible(False) \n",
    "\n",
    "legend = ax.legend()\n",
    "add_legend_line(legend)"
   ]
  },
  {
   "attachments": {},
   "cell_type": "markdown",
   "metadata": {},
   "source": [
    "### Capital Investments "
   ]
  },
  {
   "cell_type": "code",
   "execution_count": null,
   "metadata": {},
   "outputs": [],
   "source": [
    "capital_investments_2 = capital_investments.pivot(index='YEAR',columns='TECHNOLOGY',values='VALUE')\n",
    "\n",
    "ax = capital_investments_2.plot.bar( \n",
    "    stacked=True,\n",
    "    legend='reverse',\n",
    "    color=['tab:orange','tab:blue']\n",
    ")\n",
    "\n",
    "ax.set_ylabel('INVESTMENTS (M$)')\n",
    "ax.set_xlabel('')\n",
    "plt.locator_params(axis='x', nbins=11)\n",
    "plt.xticks(rotation = -45)\n",
    "\n",
    "for label in ax.xaxis.get_ticklabels()[1::2]:\n",
    "    label.set_visible(False) "
   ]
  },
  {
   "attachments": {},
   "cell_type": "markdown",
   "metadata": {},
   "source": [
    "### Emissions"
   ]
  },
  {
   "cell_type": "code",
   "execution_count": null,
   "metadata": {},
   "outputs": [],
   "source": [
    "ax = sns.barplot(\n",
    "    x='YEAR', \n",
    "    y='VALUE', \n",
    "    hue='EMISSION', \n",
    "    data=annual_emissions\n",
    ")\n",
    "\n",
    "ax.set_ylabel('EMISSIONS (MT)')\n",
    "ax.set_xlabel('')\n",
    "plt.locator_params(axis='x', nbins=11)\n",
    "plt.xticks(rotation = -45)\n",
    "\n",
    "for label in ax.xaxis.get_ticklabels()[1::2]:\n",
    "    label.set_visible(False)"
   ]
  },
  {
   "attachments": {},
   "cell_type": "markdown",
   "metadata": {},
   "source": [
    "# GSA Results"
   ]
  },
  {
   "attachments": {},
   "cell_type": "markdown",
   "metadata": {},
   "source": [
    "## Read in GSA Results"
   ]
  },
  {
   "attachments": {},
   "cell_type": "markdown",
   "metadata": {},
   "source": [
    "### Objective cost"
   ]
  },
  {
   "cell_type": "code",
   "execution_count": null,
   "metadata": {},
   "outputs": [],
   "source": []
  },
  {
   "attachments": {},
   "cell_type": "markdown",
   "metadata": {},
   "source": [
    "### Model period emissions"
   ]
  },
  {
   "cell_type": "code",
   "execution_count": null,
   "metadata": {},
   "outputs": [],
   "source": []
  },
  {
   "attachments": {},
   "cell_type": "markdown",
   "metadata": {},
   "source": [
    "### Renewable energy generation share in last year"
   ]
  },
  {
   "cell_type": "code",
   "execution_count": null,
   "metadata": {},
   "outputs": [],
   "source": []
  },
  {
   "attachments": {},
   "cell_type": "markdown",
   "metadata": {},
   "source": [
    "### Append and sort mu* values"
   ]
  },
  {
   "cell_type": "code",
   "execution_count": null,
   "metadata": {},
   "outputs": [],
   "source": []
  },
  {
   "attachments": {},
   "cell_type": "markdown",
   "metadata": {},
   "source": [
    "## Plot Results "
   ]
  },
  {
   "attachments": {},
   "cell_type": "markdown",
   "metadata": {},
   "source": [
    "### mu* Results"
   ]
  },
  {
   "cell_type": "code",
   "execution_count": null,
   "metadata": {},
   "outputs": [],
   "source": []
  },
  {
   "attachments": {},
   "cell_type": "markdown",
   "metadata": {},
   "source": [
    "### Method of Morris for renewable energy generation share\n",
    "Our GSA has 39 sensitivity parameters and 10 trajectories, resulting in (39+1)*10 model runs. Each trajectory group is shown below.   "
   ]
  },
  {
   "cell_type": "code",
   "execution_count": null,
   "metadata": {},
   "outputs": [],
   "source": []
  }
 ],
 "metadata": {
  "kernelspec": {
   "display_name": "Python 3",
   "language": "python",
   "name": "python3"
  },
  "language_info": {
   "name": "python",
   "version": "3.8.10 (default, Jun 22 2022, 20:18:18) \n[GCC 9.4.0]"
  },
  "orig_nbformat": 4,
  "vscode": {
   "interpreter": {
    "hash": "916dbcbb3f70747c44a77c7bcd40155683ae19c65e1c03b4aa3499c5328201f1"
   }
  }
 },
 "nbformat": 4,
 "nbformat_minor": 2
}
