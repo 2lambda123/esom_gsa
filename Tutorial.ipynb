{
 "cells": [
  {
   "cell_type": "code",
   "execution_count": null,
   "metadata": {
    "slideshow": {
     "slide_type": "skip"
    }
   },
   "outputs": [],
   "source": [
    "import pandas as pd\n",
    "import SALib\n",
    "from pathlib import Path\n",
    "import os\n",
    "import subprocess\n",
    "import sys\n",
    "import matplotlib.pyplot as plt\n",
    "from IPython import display"
   ]
  },
  {
   "cell_type": "markdown",
   "metadata": {
    "slideshow": {
     "slide_type": "skip"
    }
   },
   "source": [
    "To view this notebook as slides, run `jupyter nbconvert Tutorial.ipynb --to slides --post serve` on the command line"
   ]
  },
  {
   "cell_type": "markdown",
   "metadata": {
    "slideshow": {
     "slide_type": "slide"
    }
   },
   "source": [
    "# ECEMP Skills Workshop: Global Sensitivity Analysis\n",
    "\n",
    "- Will Usher, KTH Royal Institute of Technology\n",
    "- Trevor Barnes, Simon Fraser University"
   ]
  },
  {
   "cell_type": "markdown",
   "metadata": {
    "slideshow": {
     "slide_type": "slide"
    }
   },
   "source": [
    "# Introduction"
   ]
  },
  {
   "cell_type": "markdown",
   "metadata": {
    "slideshow": {
     "slide_type": "subslide"
    }
   },
   "source": [
    "## What is global sensitivity analysis?\n",
    "\n",
    "- Global sensitivity analysis is “*the study of how uncertainty in the output of a model...can be apportioned to different sources of uncertainty in the model input*”. \n",
    "- “Global” means that all parameters are moved over their input ranges at the same time.\n",
    "- By contrast, in one-at-a-time (OAT) sensitivity analysis, only one dimension of the model input space is explored while holding all other dimensions at their central value.\n",
    "- An excellent introduction to global sensitivity analysis can be found in Saltelli (2007)."
   ]
  },
  {
   "cell_type": "markdown",
   "metadata": {
    "slideshow": {
     "slide_type": "subslide"
    }
   },
   "source": [
    "## Why perform global sensitivity analysis?\n",
    "\n",
    "- Most energy system optimisation modelling studies use scenario analysis\n",
    "- Global sensitivity analysis can supplement and support scenario analysis\n",
    "  - identify key drivers of model results (factor prioritisation)\n",
    "  - identify unimportant parameters (factor fixing)\n",
    "  - identify interesting areas of the input space (factor mapping)"
   ]
  },
  {
   "cell_type": "markdown",
   "metadata": {
    "slideshow": {
     "slide_type": "notes"
    }
   },
   "source": [
    "When models are used in a static manner, for example when influential parameters are held near a constant central value, these aspects of optimisation models – the apparent redundancy of parameters, lack of interaction effects and non-linear behaviour, may induce modellers to overlook parametric uncertainty. For example, modellers understandably tend to neglect the dimensions of the input space that are not represented in the results, resulting in parts of the model going “stale” as assumptions are not revisited or refreshed. On the other hand, modellers will commit a lot of attention to the parameters associated with technologies that do appear in the model results, even if those parameters are less influential than one of the static parameters."
   ]
  },
  {
   "cell_type": "markdown",
   "metadata": {
    "slideshow": {
     "slide_type": "subslide"
    }
   },
   "source": [
    "## Methods for conducting global sensitivity analysis\n",
    "\n",
    "Variance-based approaches compute the proportion of the variance in the output that is explained by variation in the input. \n",
    "\n",
    "- Computation of a first-order (only the direct effect) and total-order (direct and interaction effects) index for each input recovers all interaction and non-linear effects of a model. \n",
    "- Variance-based approaches require a relatively large number \\$(500(k+2))\\$ of model runs.\n",
    "\n",
    "Elementary effects test, or “Method of Morris” lowers computationally needs \\$(10(k+1))\\$ by computing an average of local derivatives over a discrete space of input parameters.\n",
    "\n",
    "- It provides an estimate for the total-order index produced by more advanced variance-based approaches \n",
    "- can be applied to groups of inputs to increase coverage and reduce computational demands."
   ]
  },
  {
   "cell_type": "markdown",
   "metadata": {
    "slideshow": {
     "slide_type": "slide"
    }
   },
   "source": [
    "# References\n",
    "\n",
    "Andrea Saltelli, Marco Ratto, Terry Andres, Francesca Campolongo, Jessica Cariboni, Debora Gatelli, Michaela Saisana, and Stefano Tarantola. Global Sensitivity Analysis. The Primer. 1st ed. John Wiley & Sons, Ltd, 2007. https://doi.org/10.1002/9780470725184.\n"
   ]
  },
  {
   "cell_type": "markdown",
   "metadata": {
    "slideshow": {
     "slide_type": "slide"
    }
   },
   "source": [
    "# Examples"
   ]
  },
  {
   "cell_type": "markdown",
   "metadata": {
    "slideshow": {
     "slide_type": "slide"
    }
   },
   "source": [
    "## Example One\n",
    "\n",
    "In this example, we will first show build a simple model and perform \n",
    "**LOCAL** sensitivity analysis"
   ]
  },
  {
   "cell_type": "markdown",
   "metadata": {
    "slideshow": {
     "slide_type": "subslide"
    }
   },
   "source": [
    "### Reference Energy System\n",
    "\n",
    "Consider the simple energy system optimization model below. It includes: \n",
    "\n",
    "- A mining technology to introduce uranium \n",
    "- A nuclear power generation technology\n",
    "- Uranium fuel\n",
    "- Electricity fuel\n",
    "\n",
    "![RES](./examples/Example_One/res.jpg)"
   ]
  },
  {
   "cell_type": "markdown",
   "metadata": {
    "slideshow": {
     "slide_type": "subslide"
    }
   },
   "source": [
    "### Input Data\n",
    "\n",
    "We will add data for: \n",
    "- Capital Costs\n",
    "- Fixed Costs\n",
    "- Variable Costs (including fuel costs)\n",
    "- Powerplant Efficiency \n",
    "- Powerplant Operational Life \n",
    "- Electricity Demand \n",
    "\n",
    "The model will be run given the assumptions: \n",
    "- Model horizon of 50 years \n",
    "- 8 equal time slices per year\n",
    "- Linearly increaing yearly demand"
   ]
  },
  {
   "cell_type": "code",
   "execution_count": null,
   "metadata": {
    "slideshow": {
     "slide_type": "skip"
    }
   },
   "outputs": [],
   "source": [
    "# REFERENCE ONLY. \n",
    "# DATA ALREADY CREATED. \n",
    "# DO NOT CHANGE\n",
    "data_dir = Path('./examples/Example_One/')\n",
    "\n",
    "YEARS = range(2020, 2070)\n",
    "TECHNOLOGIES = ['MINE_URANIUM', 'NUCLEAR']\n",
    "FUELS = ['URANIUM', 'ELECTRICITY']\n",
    "REGIONS = ['R1']\n",
    "TIME_SLICE = ['S1D1', 'S1D2', 'S2D1', 'S2D2','S3D1','S3D2','S4D1','S4D2']\n",
    "YEAR_SPLIT = 0.125\n",
    "MODES = [1]"
   ]
  },
  {
   "cell_type": "markdown",
   "metadata": {
    "slideshow": {
     "slide_type": "skip"
    }
   },
   "source": [
    "#### Add Capital Costs"
   ]
  },
  {
   "cell_type": "code",
   "execution_count": null,
   "metadata": {
    "slideshow": {
     "slide_type": "skip"
    }
   },
   "outputs": [],
   "source": [
    "def add_capex(cost):\n",
    "    years = range(2020, 2070)\n",
    "    df = pd.DataFrame(\n",
    "        [['R1', 'NUCLEAR', years[0], cost]] * len(years), \n",
    "        columns=['REGION', 'TECHNOLOGY', 'YEAR', 'VALUE'])\n",
    "    df['YEAR'] = years\n",
    "    df.to_csv(Path(data_dir, 'data', 'CapitalCost.csv'), index=False)\n",
    "    return df"
   ]
  },
  {
   "cell_type": "code",
   "execution_count": null,
   "metadata": {
    "slideshow": {
     "slide_type": "skip"
    }
   },
   "outputs": [],
   "source": [
    "capex = 4000 # M$ / GW\n",
    "add_capex(capex).head()"
   ]
  },
  {
   "cell_type": "markdown",
   "metadata": {
    "slideshow": {
     "slide_type": "skip"
    }
   },
   "source": [
    "#### Add Fixed Operational Costs"
   ]
  },
  {
   "cell_type": "code",
   "execution_count": null,
   "metadata": {
    "slideshow": {
     "slide_type": "skip"
    }
   },
   "outputs": [],
   "source": [
    "def add_fixed(cost):\n",
    "    years = range(2020, 2070)\n",
    "    df = pd.DataFrame(\n",
    "        [['R1', 'NUCLEAR', YEARS[0], cost]] * len(YEARS), \n",
    "        columns=['REGION', 'TECHNOLOGY', 'YEAR', 'VALUE'])\n",
    "    df['YEAR'] = YEARS\n",
    "    df.to_csv(Path(data_dir, 'data', 'FixedCost.csv'), index=False)\n",
    "    return df"
   ]
  },
  {
   "cell_type": "code",
   "execution_count": null,
   "metadata": {
    "slideshow": {
     "slide_type": "skip"
    }
   },
   "outputs": [],
   "source": [
    "fixed = 50 # M$ / GW\n",
    "add_fixed(fixed).head()"
   ]
  },
  {
   "cell_type": "markdown",
   "metadata": {
    "slideshow": {
     "slide_type": "skip"
    }
   },
   "source": [
    "#### Add Variable Costs"
   ]
  },
  {
   "cell_type": "code",
   "execution_count": null,
   "metadata": {
    "slideshow": {
     "slide_type": "skip"
    }
   },
   "outputs": [],
   "source": [
    "def add_variable(cost):\n",
    "    years = range(2020, 2070)\n",
    "    df = pd.DataFrame(\n",
    "        [['R1', 'MINE_URANIUM', 1, years[0], cost]] * len(YEARS), \n",
    "        columns=['REGION','TECHNOLOGY','MODE_OF_OPERATION','YEAR','VALUE'])\n",
    "    df['YEAR'] = YEARS\n",
    "    df.to_csv(Path(data_dir, 'data', 'VariableCost.csv'), index=False)\n",
    "    return df"
   ]
  },
  {
   "cell_type": "code",
   "execution_count": null,
   "metadata": {
    "slideshow": {
     "slide_type": "skip"
    }
   },
   "outputs": [],
   "source": [
    "variable = 2.5 # M$ / PJ\n",
    "add_variable(variable).head()"
   ]
  },
  {
   "cell_type": "markdown",
   "metadata": {
    "slideshow": {
     "slide_type": "skip"
    }
   },
   "source": [
    "#### Add Nuclear Power Plant Efficiency "
   ]
  },
  {
   "cell_type": "code",
   "execution_count": null,
   "metadata": {
    "slideshow": {
     "slide_type": "skip"
    }
   },
   "outputs": [],
   "source": [
    "def add_efficiency(eff):\n",
    "    years = range(2020, 2070)\n",
    "    df = pd.DataFrame(\n",
    "        [['R1', 'NUCLEAR', 'URANIUM', 1, years[0], eff]] * len(years), \n",
    "        columns=['REGION','TECHNOLOGY','FUEL','MODE_OF_OPERATION','YEAR','VALUE'])\n",
    "    df['YEAR'] = years\n",
    "    df.to_csv(Path(data_dir, 'data', 'InputActivityRatio.csv'), index=False)\n",
    "    return df"
   ]
  },
  {
   "cell_type": "code",
   "execution_count": null,
   "metadata": {
    "slideshow": {
     "slide_type": "skip"
    }
   },
   "outputs": [],
   "source": [
    "eff = 1.25 # 80 %\n",
    "add_efficiency(eff).head()"
   ]
  },
  {
   "cell_type": "markdown",
   "metadata": {
    "slideshow": {
     "slide_type": "skip"
    }
   },
   "source": [
    "#### Add Demand"
   ]
  },
  {
   "cell_type": "code",
   "execution_count": null,
   "metadata": {
    "slideshow": {
     "slide_type": "skip"
    }
   },
   "outputs": [],
   "source": [
    "def add_demand(start_value, yearly_increase):\n",
    "    demand_data = []\n",
    "    for year in range(2020, 2070):\n",
    "        demand_data.append([\n",
    "            'R1', \n",
    "            'ELECTRICITY',\n",
    "            year,\n",
    "            start_value*(1+yearly_increase)**(year-YEARS[0])\n",
    "        ])\n",
    "    df = pd.DataFrame(demand_data, columns=['REGION','FUEL','YEAR','VALUE'])\n",
    "    df.to_csv(Path(data_dir, 'data', 'SpecifiedAnnualDemand.csv'), index=False)\n",
    "    return df"
   ]
  },
  {
   "cell_type": "code",
   "execution_count": null,
   "metadata": {
    "slideshow": {
     "slide_type": "skip"
    }
   },
   "outputs": [],
   "source": [
    "start_value = 1000 # PJ\n",
    "yearly_increase = 0.05 # %\n",
    "add_demand(start_value, yearly_increase).head()"
   ]
  },
  {
   "cell_type": "markdown",
   "metadata": {
    "slideshow": {
     "slide_type": "skip"
    }
   },
   "source": [
    "#### Add Operational Life"
   ]
  },
  {
   "cell_type": "code",
   "execution_count": null,
   "metadata": {
    "slideshow": {
     "slide_type": "skip"
    }
   },
   "outputs": [],
   "source": [
    "def add_operational_life(op_life):\n",
    "    df = pd.DataFrame([['R1','NUCLEAR',op_life]], columns=['REGION','TECHNOLOGY','VALUE'])\n",
    "    df.to_csv(Path(data_dir, 'data', 'OperationalLife.csv'), index=False)\n",
    "    return df"
   ]
  },
  {
   "cell_type": "code",
   "execution_count": null,
   "metadata": {
    "slideshow": {
     "slide_type": "skip"
    }
   },
   "outputs": [],
   "source": [
    "op_life = 50 # years\n",
    "add_operational_life(op_life).head()"
   ]
  },
  {
   "cell_type": "markdown",
   "metadata": {
    "slideshow": {
     "slide_type": "skip"
    }
   },
   "source": [
    "### One-at-a-time Sensitivity Analysis"
   ]
  },
  {
   "cell_type": "markdown",
   "metadata": {
    "slideshow": {
     "slide_type": "skip"
    }
   },
   "source": [
    "Run the model with the baseline input parameters and get a reference objective value"
   ]
  },
  {
   "cell_type": "code",
   "execution_count": null,
   "metadata": {
    "slideshow": {
     "slide_type": "skip"
    }
   },
   "outputs": [],
   "source": [
    "def run_model(path_to_data_dir, path_to_model_file, result_file_name):\n",
    "    os.system(\n",
    "        'otoole convert datapackage datafile {} {}' .format(\n",
    "            Path(path_to_data_dir,'datapackage.json'), \n",
    "            Path(path_to_data_dir,'data.txt')\n",
    "        )\n",
    "    )\n",
    "    os.system(\n",
    "        'glpsol -m {} -d {} --wlp {} --check' .format(\n",
    "            Path(path_to_model_file),\n",
    "            Path(path_to_data_dir,'data.txt'),\n",
    "            Path(path_to_data_dir,'model.lp'),\n",
    "        )\n",
    "    )\n",
    "    os.system(\n",
    "        'cbc {} solve -solu {}' .format(\n",
    "            Path(path_to_data_dir,'model.lp'),\n",
    "            Path(path_to_data_dir,result_file_name)\n",
    "        )\n",
    "    )\n",
    "\n",
    "def get_objective_value(result_files):\n",
    "    for result_file in result_files:\n",
    "        print(f'{result_file.name}')\n",
    "        os.system('head -1 {}' .format(Path(result_file)))"
   ]
  },
  {
   "cell_type": "code",
   "execution_count": null,
   "metadata": {
    "slideshow": {
     "slide_type": "skip"
    }
   },
   "outputs": [],
   "source": [
    "run_model(data_dir, './examples/Example_One/osemosys.txt', 'solution.sol')\n",
    "get_objective_value([Path(data_dir, 'solution.sol')])"
   ]
  },
  {
   "cell_type": "markdown",
   "metadata": {
    "slideshow": {
     "slide_type": "subslide"
    }
   },
   "source": [
    "## Model Results\n",
    "\n",
    "Solving the model for total discounted costs produces an objective value  of $572,721. In local sensitivity analysis, we select a single parameter to alter and rerun the model. This will tell us the effect that single parameter has on the results around the optimal location. "
   ]
  },
  {
   "cell_type": "markdown",
   "metadata": {
    "slideshow": {
     "slide_type": "subslide"
    }
   },
   "source": [
    "### Parameter Changes\n",
    "\n",
    "We will change both the **capital costs** and **variable costs** of the nuclear power plant to see how sensitive the results are to these parameters. We will do 5 additional runs for each parameter, resulting in 10 total runs. This summary of model runs and results are given below.  \n",
    "\n",
    "| Run      | Capital Costs (M$/GW) | Variable Costs (M$/PJ) | Objective Cost (M$) |\n",
    "|----------|-----------------------|------------------------|---------------------|\n",
    "| Original | 4000                  | 2.5                    | 572721              |\n",
    "| 1        | 2500                  | 2.5                    | 446506              |\n",
    "| 2        | 3000                  | 2.5                    | 488577              |\n",
    "| 3        | 3500                  | 2.5                    | 530649              |\n",
    "| 4        | 4500                  | 2.5                    | 614793              |\n",
    "| 5        | 5000                  | 2.5                    | 656865              |\n",
    "| 6        | 4000                  | 1.5                    | 511727              |\n",
    "| 7        | 4000                  | 2.0                    | 542224              |\n",
    "| 8        | 4000                  | 3.0                    | 572721              |\n",
    "| 9        | 4000                  | 3.5                    | 633715              |\n",
    "| 10       | 4000                  | 4.0                    | 664212              |\n"
   ]
  },
  {
   "cell_type": "code",
   "execution_count": null,
   "metadata": {
    "slideshow": {
     "slide_type": "skip"
    }
   },
   "outputs": [],
   "source": [
    "result_files = []\n",
    "\n",
    "# Iterate over capital cost\n",
    "capital_costs = [2500, 3000, 3500, 4500, 5000]\n",
    "for capital_cost in capital_costs:\n",
    "    add_capex(capital_cost)\n",
    "    result_file = f'capex_{capital_cost}.txt'\n",
    "    result_files.append(Path(data_dir, result_file))\n",
    "    run_model(data_dir, './examples/Example_One/osemosys.txt', result_file)\n",
    "\n",
    "# resest to origianl capital cost\n",
    "add_capex(4000)\n",
    "\n",
    "# Iterate over variable cost\n",
    "var_costs = [1.5, 2.0, 3.0, 3.5, 4.0]\n",
    "for var_cost in var_costs:\n",
    "    add_variable(var_cost)\n",
    "    result_file = f'var_cost_{var_cost}.txt'\n",
    "    result_files.append(Path(data_dir, result_file))\n",
    "    run_model(data_dir, './examples/Example_One/osemosys.txt', result_file)\n",
    "\n",
    "# reset to original variable cost\n",
    "add_variable(2.5)\n",
    "\n",
    "# extract objective costs\n",
    "get_objective_value(result_files)"
   ]
  },
  {
   "cell_type": "markdown",
   "metadata": {
    "slideshow": {
     "slide_type": "skip"
    }
   },
   "source": [
    "Create simple plots to see how the costs change with parameters"
   ]
  },
  {
   "cell_type": "code",
   "execution_count": null,
   "metadata": {
    "slideshow": {
     "slide_type": "skip"
    }
   },
   "outputs": [],
   "source": [
    "def plot_LSA(df_capex, df_var):\n",
    "    fig, axs = plt.subplots(1,2, figsize=(14,5), sharey=True)\n",
    "    df_capex.plot(ax=axs[0], marker='o', title='Effects of Capital Cost', xlabel='Capital Cost (M$/GW)', ylabel='Objective Cost (M$)')\n",
    "    df_var.plot(ax=axs[1], marker='o', title='Effects of Variable Cost', xlabel='Variable Cost (M$/PJ)', ylabel='Objective Cost (M$)')"
   ]
  },
  {
   "cell_type": "code",
   "execution_count": null,
   "metadata": {
    "slideshow": {
     "slide_type": "skip"
    }
   },
   "outputs": [],
   "source": [
    "df_capex = pd.DataFrame([\n",
    "    [2500, 446506],\n",
    "    [3000, 488577],\n",
    "    [3500, 530649],\n",
    "    [4000, 572721],\n",
    "    [4500, 614793],\n",
    "    [5000, 656865],\n",
    "], columns=['Capex', 'Objective_Cost']).set_index('Capex')\n",
    "\n",
    "df_var = pd.DataFrame([\n",
    "    [1.5, 511727],\n",
    "    [2.0, 542224],\n",
    "    [2.5, 572721],\n",
    "    [3.0, 603218],\n",
    "    [3.5, 633715],\n",
    "    [4.0, 664212],\n",
    "], columns=['Var_Cost', 'Objective_Cost']).set_index('Var_Cost')"
   ]
  },
  {
   "cell_type": "code",
   "execution_count": null,
   "metadata": {
    "slideshow": {
     "slide_type": "subslide"
    }
   },
   "outputs": [],
   "source": [
    "plot_LSA(df_capex, df_var)"
   ]
  },
  {
   "cell_type": "markdown",
   "metadata": {
    "slideshow": {
     "slide_type": "subslide"
    }
   },
   "source": [
    "## Shortfalls with local sensitivity analysis\n",
    "\n",
    "### Parameter Influence\n",
    "In this example, we can see that capital costs are the more influential parameter over our range of values, due to it having a steeper gradient. However, as we add more parameters and build more complex models, simply viewing the gradient can become impractical. \n",
    "\n",
    "### Interaction Effects\n",
    "This example also shows a relatively linear responce between our varaibles and objective cost. While non-linear effects would also be captured by this method, interaction effects would not be. For example, variable costs (which include fuel cost) and the efficiency of the power plant will interact (as discussed later). We do not see this interaction through local sensitivity analysis. "
   ]
  },
  {
   "cell_type": "markdown",
   "metadata": {
    "slideshow": {
     "slide_type": "slide"
    }
   },
   "source": [
    "## Example Two \n",
    "\n",
    "We will repeat example one, except employ **GLOBAL** sensitivity analysis using the Method of Morris."
   ]
  },
  {
   "cell_type": "markdown",
   "metadata": {
    "slideshow": {
     "slide_type": "subslide"
    }
   },
   "source": [
    "## Reference Energy Systen\n",
    "\n",
    "Our RES and included parameters will remain the same as example 1. \n",
    "\n",
    "![RES](./examples/Example_Two/res.jpg)"
   ]
  },
  {
   "cell_type": "markdown",
   "metadata": {
    "slideshow": {
     "slide_type": "subslide"
    }
   },
   "source": [
    "## The Workflow\n",
    "\n",
    "Performing global sensitivity analysis requires running the model many times and carful handeling of the results. Therfore, it is benifical to set up an automated workflow to reduce data handlling errors. To execute the workflow, three main steps are required. \n",
    "\n",
    "1. Modify a configuration file\n",
    "2. Run the workflow \n",
    "3. Assess results\n",
    "\n",
    "A high-level graphical overview of the the workflow is given below. "
   ]
  },
  {
   "cell_type": "markdown",
   "metadata": {
    "slideshow": {
     "slide_type": "subslide"
    }
   },
   "source": [
    "\n",
    "![workflow](./examples/Example_Two/workflow.jpg)\n"
   ]
  },
  {
   "cell_type": "markdown",
   "metadata": {
    "slideshow": {
     "slide_type": "subslide"
    }
   },
   "source": [
    "## The Configuration File\n",
    "\n",
    "The configuration file contains parameters that define how the sensitivity analysis will be conducted. For each factor we want to test, we can test its sensitivity independently of time. Moreover, if the parameter is defined over time (such as a yearly changing demand), we can also test the sensitivity dependent on time. "
   ]
  },
  {
   "cell_type": "markdown",
   "metadata": {
    "slideshow": {
     "slide_type": "subslide"
    }
   },
   "source": [
    "### Time Independent Factors \n",
    "\n",
    "The figure below highlights two different scenarions that can be configured in the workflow. The red lines prepresent the user inputted bounds, while the green lines represnet the modelled values. \n",
    "\n",
    "![gsa-options](./examples/Example_Two/gsa_options_fixed.jpg)\n"
   ]
  },
  {
   "cell_type": "markdown",
   "metadata": {
    "slideshow": {
     "slide_type": "subslide"
    }
   },
   "source": [
    "### Scenario One\n",
    "In scenario one, we specify a fixed start point. This results in **no sensitivity analysis** being performed, because we are not varrying the parameter over different model runs. \n",
    "\n",
    "### Scenario Two\n",
    "In scenario two, we specify a moving start point, represented by the red bars. This can be benifical in situations where we know the parameter value will not change throughout the model run, but want to test the sensitivity of this fixed value. For example, the operational life of a powerplant. "
   ]
  },
  {
   "cell_type": "markdown",
   "metadata": {
    "slideshow": {
     "slide_type": "subslide"
    }
   },
   "source": [
    "### Time Dependent Factors \n",
    "\n",
    "The figure below highlights three different scenarions that can be configured in the workflow. The red lines prepresnet the user inputted bounds, while the green lines represnet the interpoloated values. \n",
    "\n",
    "![gsa-options](./examples/Example_Two/gsa_options_interpolate.jpg)\n"
   ]
  },
  {
   "cell_type": "markdown",
   "metadata": {
    "slideshow": {
     "slide_type": "subslide"
    }
   },
   "source": [
    "### Scenario One\n",
    "In scenario one, we specify fixed start and end points. This results in **no sensitivity analysis** being performed, because we are not varrying the parameter over different model runs. \n",
    "\n",
    "### Scenario Two\n",
    "In scenario two, we specify a fixed start point, and a moving end point. This can be benifical in scenario where we know the starting value, but are uncertian about how the value will change in time. For example, the annual demand of our start year may be a known value, but we are uncertain how will progress throughout the model horizon. \n",
    "\n",
    "### Scenario Three\n",
    "In scenario three, we specify moving start and end pointns. This can be benifical in scenarios where we want to test the sensitivity of values where we are uncertain of both current and future values. For example, fuel costs are always changing, and testing the sesitivity of these changes on your model can give insights. "
   ]
  },
  {
   "cell_type": "markdown",
   "metadata": {
    "slideshow": {
     "slide_type": "skip"
    }
   },
   "source": [
    "Navigate to `config/scenarios.csv` file and update it to match the following:\n",
    "\n",
    "\n",
    "| name | description      | path                             |\n",
    "|------|------------------|----------------------------------|\n",
    "|0     | \"Simple Example\" | examples/assets/datapackage.json |"
   ]
  },
  {
   "cell_type": "markdown",
   "metadata": {
    "slideshow": {
     "slide_type": "subslide"
    }
   },
   "source": [
    "### Modify the Configuration File\n",
    "\n",
    "Navigate to [`examples/Example_Two/parameters.csv`](/edit/examples/Example_Two/parameters.csv) file and add sensitivity parameters for the `CapitalCost`, `VariableCost`, and `InputActivityRatio` (defined as 1/efficiency). The formatted parameter csv should look similar to the following. The `interploation_index` value is either `fixed` or `interpolate` for time independent and time dependent parameters respectively. \n",
    "\n",
    "Feel free to user your own values for the min/max values!\n",
    "\n",
    "\n",
    "\n",
    "|name |group|indexes|min_value_base_year|max_value_base_year|min_value_end_year|max_value_end_year|dist|interpolation_index|action|\n",
    "|-----|-----|-------|-------------------|-------------------|------------------|------------------|----|-------------------|------|\n",
    "|CapitalCost  |capital  |\"R1,NUCLEAR\"        |4000 |5000 |2000 |3000 |\"unif\" |\"YEAR\" |\"interpolate\" |\n",
    "|VariableCost |variable |\"R1,MINE_URANIUM,1\" |3.5  |4.0  |1.5  |1.75 |\"unif\" |\"YEAR\" |\"interpolate\" |\n",
    "|InputActivityRatio | IAR |\"R1,NUCLEAR,URANIUM,1\" |1.3 | 1.5 | 1.05 | 1.2 | \"unif\" | \"YEAR\" | \"interpolate\" |"
   ]
  },
  {
   "cell_type": "markdown",
   "metadata": {
    "slideshow": {
     "slide_type": "subslide"
    }
   },
   "source": [
    "### Run the Workflow\n",
    "\n",
    "Once we have defined our sensitivity parameters, we can run the workflow"
   ]
  },
  {
   "cell_type": "code",
   "execution_count": null,
   "metadata": {
    "slideshow": {
     "slide_type": "skip"
    }
   },
   "outputs": [],
   "source": [
    "\n",
    "\"\"\"\n",
    "def clean_snakemake():\n",
    "    wd = sys.path[0]\n",
    "    os.chdir(wd)\n",
    "    subprocess.Popen(\"snakemake --cores 4 clean\", cwd=\"..\", shell=True)\n",
    "def run_snakemake():\n",
    "    wd = sys.path[0]\n",
    "    os.chdir(wd)\n",
    "    subprocess.Popen(\"snakemake --cores 4\", cwd=\"..\", shell=True)\n",
    "\n",
    "clean_snakemake()\n",
    "run_snakemake()\n",
    "\"\"\""
   ]
  },
  {
   "cell_type": "code",
   "execution_count": null,
   "metadata": {
    "slideshow": {
     "slide_type": "fragment"
    }
   },
   "outputs": [],
   "source": [
    "!snakemake clean -c --configfile examples/Example_Two/config.yaml\n",
    "!snakemake --cores 4 --configfile examples/Example_Two/config.yaml"
   ]
  },
  {
   "cell_type": "markdown",
   "metadata": {
    "slideshow": {
     "slide_type": "subslide"
    }
   },
   "source": [
    "## View Results \n",
    "\n",
    "The global sensitivity anlysis conducted is called The Method of Morris. This screening method will produce three sensitivity values of interest, mu, mu*, and sigma.\n",
    "\n",
    "- mu will assess the overall influence of the factor on the output\n",
    "- mu* will estimate the mean of the distribution of the absolute values \n",
    "- Sigma, the standard deviation, will estimate the nonlinear effects and/or interactions with other factors\n",
    "\n",
    "The purpose of calculating mu* in addition to mu is that mu may fail to identify a factor with considerable influence on the model. This can happen when both positive and negative distributions. "
   ]
  },
  {
   "cell_type": "markdown",
   "metadata": {
    "slideshow": {
     "slide_type": "subslide"
    }
   },
   "source": [
    "### Tabular Results\n",
    "\n",
    "Tabluar results are found in the file ['results/SA_0.csv'](./results/0_summary/SA_0.csv)"
   ]
  },
  {
   "cell_type": "code",
   "execution_count": null,
   "metadata": {
    "slideshow": {
     "slide_type": "fragment"
    }
   },
   "outputs": [],
   "source": [
    "pd.read_csv('results/SA_0.csv', index_col=0)"
   ]
  },
  {
   "cell_type": "markdown",
   "metadata": {
    "slideshow": {
     "slide_type": "subslide"
    }
   },
   "source": [
    "### Graphical Results\n",
    "\n",
    "Graphical results are found in the file ['results/0_summary/SA_objective.png'](./results/0_summary/SA_objective.png)"
   ]
  },
  {
   "cell_type": "code",
   "execution_count": null,
   "metadata": {
    "slideshow": {
     "slide_type": "subslide"
    }
   },
   "outputs": [],
   "source": [
    "display.Image('./results/SA_0.png')"
   ]
  },
  {
   "cell_type": "markdown",
   "metadata": {
    "slideshow": {
     "slide_type": "subslide"
    }
   },
   "source": [
    "### Interpreting Results\n",
    "\n",
    "Capital costs are most influentional factor, of the ones tested, on the total discounted cost of the system. There is no interaction between capital costs and variable costs or input activity ratio. Variable costs and the input activity ratio have non-linear effects and/or interact with each other. "
   ]
  },
  {
   "cell_type": "markdown",
   "metadata": {
    "slideshow": {
     "slide_type": "slide"
    }
   },
   "source": [
    "## Example 3\n",
    "\n",
    "In this example, it's now up to you to modify the sensitivity paramters ! "
   ]
  },
  {
   "cell_type": "markdown",
   "metadata": {},
   "source": [
    "### Reference Energy Systen\n",
    "\n",
    "Our RES and included parameters will remain the same. \n",
    "\n",
    "![RES](./examples/Example_Three/res.jpg)"
   ]
  },
  {
   "cell_type": "markdown",
   "metadata": {
    "slideshow": {
     "slide_type": "subslide"
    }
   },
   "source": [
    "### Modify the Configuration File\n",
    "\n",
    "Navigate to [`examples/Example_Three/parameters.csv`](/edit/examples/Example_Three/parameters.csv) file and add sensitivity parameters. The available parameters to explore are shown below. Modify the configuration file however you want ! \n",
    "\n",
    "|name |group|indexes|min_value_base_year|max_value_base_year|min_value_end_year|max_value_end_year|dist|interpolation_index|action|\n",
    "|-----|-----|-------|-------------------|-------------------|------------------|------------------|----|-------------------|------|\n",
    "|CapitalCost           |capital  |\"R1,NUCLEAR\"                |XXX |XXX |XXX |XXX |\"unif\" |\"YEAR\" |\"interpolate\" |\n",
    "|FixedCost             |fixed    |\"R1,NUCLEAR\"                |XXX |XXX |XXX |XXX |\"unif\" |\"YEAR\" |\"interpolate\" |\n",
    "|VariableCost          |variable |\"R1,MINE_URANIUM,1\"         |XXX |XXX |XXX |XXX |\"unif\" |\"YEAR\" |\"interpolate\" |\n",
    "|SpecifiedAnnualDemand |demand   |\"R1,ELECTRICITY\"            |XXX |XXX |XXX |XXX |\"unif\" |\"YEAR\" |\"interpolate\" |\n",
    "|InputActivityRatio    |iar      |\"R1,NUCLEAR,URANIUM,1\"      |XXX |XXX |XXX |XXX |\"unif\" |\"YEAR\" |\"interpolate\" |\n",
    "|OperationalLife       |oplife   |\"R1,NUCLEAR\"                |XXX |XXX |XXX |XXX |\"unif\" |\"YEAR\" |\"interpolate\" |"
   ]
  },
  {
   "cell_type": "markdown",
   "metadata": {
    "slideshow": {
     "slide_type": "subslide"
    }
   },
   "source": [
    "### Run the Workflow"
   ]
  },
  {
   "cell_type": "code",
   "execution_count": null,
   "metadata": {
    "slideshow": {
     "slide_type": "fragment"
    }
   },
   "outputs": [],
   "source": [
    "!snakemake clean -c --configfile examples/Example_Three/config.yaml\n",
    "!snakemake --cores 4 --configfile examples/Example_Three/config.yaml"
   ]
  },
  {
   "cell_type": "markdown",
   "metadata": {
    "slideshow": {
     "slide_type": "subslide"
    }
   },
   "source": [
    "### View Results"
   ]
  },
  {
   "cell_type": "code",
   "execution_count": null,
   "metadata": {
    "slideshow": {
     "slide_type": "subslide"
    }
   },
   "outputs": [],
   "source": [
    "pd.read_csv('results/SA_0.csv', index_col=0)"
   ]
  },
  {
   "cell_type": "code",
   "execution_count": null,
   "metadata": {
    "slideshow": {
     "slide_type": "subslide"
    }
   },
   "outputs": [],
   "source": [
    "display.Image('./results/SA_0.png')"
   ]
  },
  {
   "cell_type": "markdown",
   "metadata": {
    "slideshow": {
     "slide_type": "slide"
    }
   },
   "source": [
    "# Wrapup "
   ]
  },
  {
   "cell_type": "markdown",
   "metadata": {
    "slideshow": {
     "slide_type": "subslide"
    }
   },
   "source": [
    "In this tutorial we have explored how global sensitivity analysis can be applied to energy system optimization models. Specifically, we looked at the Method of Morris to identify influential parameters  and parameters  that have non-linear and/or interaction with other parameters. Oppose to local sensitivity analysis, global sensitivity analysis allows us explore a wide array of the solution space and identify the important factors. \n",
    "\n",
    "While in this example, we looked at the sensitivity on the total discounted system cost, we can perform sensitivity analysis on any variable of interest. For example, capacity installations, emission rates, or fuel usage. \n",
    "\n",
    "Finally, we used the Method of Morris to conduct our sensitivity analysis as it allows us to extract sufficient preliminary sensitivity indicators with minimal model runs. This is beneficial as (especially energy system optimization models) can often have multi-hour run times. However, other variance based global sensitivity methods can provide more information on the sensitivity of the results, with the caveat that this often requires more model runs. "
   ]
  }
 ],
 "metadata": {
  "celltoolbar": "Slideshow",
  "kernelspec": {
   "display_name": "Python 3 (ipykernel)",
   "language": "python",
   "name": "python3"
  },
  "language_info": {
   "codemirror_mode": {
    "name": "ipython",
    "version": 3
   },
   "file_extension": ".py",
   "mimetype": "text/x-python",
   "name": "python",
   "nbconvert_exporter": "python",
   "pygments_lexer": "ipython3"
  },
  "vscode": {
   "interpreter": {
    "hash": "b93cd6f2f4c0fa0206bbda95dee9346b0b1d12c2875b491cd680bb32bc7d3c94"
   }
  }
 },
 "nbformat": 4,
 "nbformat_minor": 2
}
