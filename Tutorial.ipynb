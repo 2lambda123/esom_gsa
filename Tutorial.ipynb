{
 "cells": [
  {
   "cell_type": "code",
   "execution_count": null,
   "metadata": {
    "slideshow": {
     "slide_type": "skip"
    }
   },
   "outputs": [],
   "source": [
    "import pandas as pd\n",
    "import SALib\n",
    "from pathlib import Path\n",
    "import os\n",
    "import subprocess\n",
    "import sys\n",
    "import matplotlib.pyplot as plt\n",
    "from IPython import display"
   ]
  },
  {
   "cell_type": "markdown",
   "metadata": {
    "slideshow": {
     "slide_type": "skip"
    }
   },
   "source": [
    "To view this notebook as slides, run `jupyter nbconvert Tutorial.ipynb --to slides --post serve` on the command line"
   ]
  },
  {
   "cell_type": "markdown",
   "metadata": {
    "slideshow": {
     "slide_type": "slide"
    }
   },
   "source": [
    "# ECEMP Skills Workshop: Global Sensitivity Analysis\n",
    "\n",
    "- Will Usher, KTH Royal Institute of Technology\n",
    "- Trevor Barnes, Simon Fraser University"
   ]
  },
  {
   "cell_type": "markdown",
   "metadata": {
    "slideshow": {
     "slide_type": "slide"
    }
   },
   "source": [
    "Join the [menti](https://www.menti.com/alhebjoi4h3i) by going to [menti.com](https://www.menti.com) and using the code 4649 2930 (available between 5-7th October)."
   ]
  },
  {
   "cell_type": "markdown",
   "metadata": {
    "slideshow": {
     "slide_type": "slide"
    }
   },
   "source": [
    "# Introduction"
   ]
  },
  {
   "cell_type": "markdown",
   "metadata": {
    "slideshow": {
     "slide_type": "subslide"
    }
   },
   "source": [
    "## What is global sensitivity analysis?\n",
    "\n",
    "- Global sensitivity analysis is “*the study of how uncertainty in the output of a model...can be apportioned to different sources of uncertainty in the model input*”. \n",
    "- “Global” means that all parameters are moved over their input ranges at the same time.\n",
    "- By contrast, in one-at-a-time (OAT) sensitivity analysis, only one dimension of the model input space is explored while holding all other dimensions at their central value.\n",
    "- An excellent introduction to global sensitivity analysis can be found in Saltelli (2007)."
   ]
  },
  {
   "cell_type": "markdown",
   "metadata": {
    "slideshow": {
     "slide_type": "subslide"
    }
   },
   "source": [
    "## Why perform global sensitivity analysis?\n",
    "\n",
    "- Most energy system optimisation modelling studies use scenario analysis\n",
    "- Global sensitivity analysis can supplement and support scenario analysis\n",
    "  - identify key drivers of model results (factor prioritisation)\n",
    "  - identify unimportant parameters (factor fixing)\n",
    "  - identify interesting areas of the input space (factor mapping)"
   ]
  },
  {
   "cell_type": "markdown",
   "metadata": {
    "slideshow": {
     "slide_type": "subslide"
    }
   },
   "source": [
    "## Methods for conducting global sensitivity analysis\n",
    "\n",
    "Variance-based approaches compute the proportion of the variance in the output that is explained by variation in the input. \n",
    "\n",
    "- Computation of a first-order (only the direct effect) and total-order (direct and interaction effects) index for each input recovers all interaction and non-linear effects of a model. \n",
    "- Variance-based approaches require a relatively large number $(500(k+2))$ of model runs.\n",
    "\n",
    "Elementary effects test, or “Method of Morris” lowers computationally needs $(10(k+1))$ by computing an average of local derivatives over a discrete space of input parameters.\n",
    "\n",
    "- It provides an estimate for the total-order index produced by more advanced variance-based approaches \n",
    "- can be applied to groups of inputs to increase coverage and reduce computational demands."
   ]
  },
  {
   "cell_type": "markdown",
   "metadata": {
    "slideshow": {
     "slide_type": "subslide"
    }
   },
   "source": [
    "## Tools for performing global sensitivity analyses\n",
    "\n",
    "The Python library [SALib](http://salib.github.io/SALib/) provides implementations of powerful global sensitivity analysis approaches.\n",
    "\n",
    "\n",
    "-   Sobol Sensitivity Analysis ([Sobol\n",
    "    2001](http://www.sciencedirect.com/science/article/pii/S0378475400002706), [Saltelli\n",
    "    2002](http://www.sciencedirect.com/science/article/pii/S0010465502002801), [Saltelli et al.\n",
    "    2010](http://www.sciencedirect.com/science/article/pii/S0010465509003087))\n",
    "\n",
    "-   Method of Morris, including groups and optimal trajectories ([Morris\n",
    "    1991](http://www.tandfonline.com/doi/abs/10.1080/00401706.1991.10484804), [Campolongo et al.\n",
    "    2007](http://www.sciencedirect.com/science/article/pii/S1364815206002805))\n",
    "\n",
    "-   Fourier Amplitude Sensitivity Test (FAST) ([Cukier et al.\n",
    "    1973](http://scitation.aip.org/content/aip/journal/jcp/59/8/10.1063/1.1680571), [Saltelli et al.\n",
    "    1999](http://amstat.tandfonline.com/doi/abs/10.1080/00401706.1999.10485594))\n",
    "\n",
    "-   Random Balance Designs - Fourier Amplitude Sensitivity Test\n",
    "    (RBD-FAST) ([Tarantola et al.\n",
    "    2006](https://hal.archives-ouvertes.fr/hal-01065897/file/Tarantola06RESS_HAL.pdf), [Elmar Plischke\n",
    "    2010](https://doi.org/10.1016/j.ress.2009.11.005), [Tissot et al.\n",
    "    2012](https://doi.org/10.1016/j.ress.2012.06.010))\n",
    "\n",
    "-   Delta Moment-Independent Measure ([Borgonovo\n",
    "    2007](http://www.sciencedirect.com/science/article/pii/S0951832006000883), [Plischke et al.\n",
    "    2013](http://www.sciencedirect.com/science/article/pii/S0377221712008995))\n",
    "\n",
    "-   Derivative-based Global Sensitivity Measure (DGSM) ([Sobol and\n",
    "    Kucherenko\n",
    "    2009](http://www.sciencedirect.com/science/article/pii/S0378475409000354))\n",
    "\n",
    "-   Fractional Factorial Sensitivity Analysis ([Saltelli et al.\n",
    "    2008](http://www.wiley.com/WileyCDA/WileyTitle/productCd-0470059974.html))\n",
    "\n",
    "-   High Dimensional Model Representation ([Li et al.\n",
    "    2010](https://pubs.acs.org/doi/pdf/10.1021/jp9096919))\n",
    "    \n",
    "   "
   ]
  },
  {
   "cell_type": "code",
   "execution_count": null,
   "metadata": {
    "slideshow": {
     "slide_type": "skip"
    }
   },
   "outputs": [],
   "source": [
    "from SALib import ProblemSpec\n",
    "from SALib.test_functions import Ishigami"
   ]
  },
  {
   "cell_type": "markdown",
   "metadata": {
    "slideshow": {
     "slide_type": "subslide"
    }
   },
   "source": [
    "To use the SALib libary, you first define a `ProblemSpec` containing the names and bounds of your variables."
   ]
  },
  {
   "cell_type": "code",
   "execution_count": null,
   "metadata": {
    "slideshow": {
     "slide_type": "fragment"
    }
   },
   "outputs": [],
   "source": [
    "# By convention, we assign to \"sp\" (for \"SALib Problem\")\n",
    "sp = ProblemSpec({\n",
    "  'names': ['x1', 'x2', 'x3'],    # Name of each parameter\n",
    "  'bounds': [[-np.pi, np.pi]]*3,  # bounds of each parameter\n",
    "  'outputs': ['Y']                # name of outputs in expected order\n",
    "})"
   ]
  },
  {
   "cell_type": "markdown",
   "metadata": {
    "slideshow": {
     "slide_type": "fragment"
    }
   },
   "source": [
    "Then you create a sample using the method of your choice."
   ]
  },
  {
   "cell_type": "code",
   "execution_count": null,
   "metadata": {
    "slideshow": {
     "slide_type": "fragment"
    }
   },
   "outputs": [],
   "source": [
    "# Create the sample\n",
    "sp = sp.sample_saltelli(1024, calc_second_order=True)"
   ]
  },
  {
   "cell_type": "markdown",
   "metadata": {
    "slideshow": {
     "slide_type": "subslide"
    }
   },
   "source": [
    "You run your model many times, once for each row of the sample."
   ]
  },
  {
   "cell_type": "code",
   "execution_count": null,
   "metadata": {
    "slideshow": {
     "slide_type": "fragment"
    }
   },
   "outputs": [],
   "source": [
    "# Run the model\n",
    "sp = sp.evaluate(Ishigami.evaluate)"
   ]
  },
  {
   "cell_type": "markdown",
   "metadata": {
    "slideshow": {
     "slide_type": "fragment"
    }
   },
   "source": [
    "Finally, you run the matching analysis method for each model output you wish to perform the global sensitivity analysis."
   ]
  },
  {
   "cell_type": "code",
   "execution_count": null,
   "metadata": {
    "slideshow": {
     "slide_type": "fragment"
    }
   },
   "outputs": [],
   "source": [
    "# Run the analysis method\n",
    "sp = sp.analyze_sobol(print_to_console=False)"
   ]
  },
  {
   "cell_type": "code",
   "execution_count": null,
   "metadata": {
    "slideshow": {
     "slide_type": "subslide"
    }
   },
   "outputs": [],
   "source": [
    "# Samples, model results and analyses can be extracted from the ProblemSpec\n",
    "print(sp)"
   ]
  },
  {
   "cell_type": "code",
   "execution_count": null,
   "metadata": {
    "slideshow": {
     "slide_type": "subslide"
    }
   },
   "outputs": [],
   "source": [
    "# Basic plotting functionality is also provided\n",
    "sp.plot()"
   ]
  },
  {
   "cell_type": "code",
   "execution_count": null,
   "metadata": {
    "slideshow": {
     "slide_type": "skip"
    }
   },
   "outputs": [],
   "source": [
    "from SALib import ProblemSpec\n",
    "from SALib.test_functions import Ishigami\n",
    "\n",
    "# By convention, we assign to \"sp\" (for \"SALib Problem\")\n",
    "sp = ProblemSpec({\n",
    "  'names': ['x1', 'x2', 'x3'],    # Name of each parameter\n",
    "  'bounds': [[-np.pi, np.pi]]*3,  # bounds of each parameter\n",
    "  'outputs': ['Y']                # name of outputs in expected order\n",
    "})\n",
    "\n",
    "# Create the sample\n",
    "sp.sample_morris(100, optimal_trajectories=10, local_optimization=True, num_levels=4)\n",
    "\n",
    "# Run the model\n",
    "sp.evaluate(Ishigami.evaluate)\n",
    "\n",
    "# Run the matching analysis method\n",
    "sp.analyze_morris(print_to_console=False)\n",
    "\n",
    "# Samples, model results and analyses can be extracted:\n",
    "print(sp)\n",
    "\n",
    "# Basic plotting functionality is also provided\n",
    "sp.plot()"
   ]
  },
  {
   "cell_type": "markdown",
   "metadata": {
    "slideshow": {
     "slide_type": "subslide"
    }
   },
   "source": [
    "# References\n",
    "\n",
    "Andrea Saltelli, Marco Ratto, Terry Andres, Francesca Campolongo, Jessica Cariboni, Debora Gatelli, Michaela Saisana, and Stefano Tarantola. Global Sensitivity Analysis. The Primer. 1st ed. John Wiley & Sons, Ltd, 2007. [doi:10.1002/9780470725184](https://doi.org/10.1002/9780470725184).\n",
    "\n",
    "Iwanaga, T., Usher, W., & Herman, J. (2022). Toward SALib 2.0: Advancing the accessibility and interpretability of global sensitivity analyses. Socio-Environmental Systems Modelling, 4, 18155. [doi:10.18174/sesmo.18155](https://doi.org/10.21105/joss.00097)\n",
    "\n",
    "Herman, J. and Usher, W. (2017) SALib: An open-source Python library for sensitivity analysis. Journal of Open Source Software, 2(9). [doi:10.21105/joss.00097](https://doi.org/10.21105/joss.00097)"
   ]
  },
  {
   "cell_type": "markdown",
   "metadata": {
    "slideshow": {
     "slide_type": "slide"
    }
   },
   "source": [
    "# Example One\n",
    "\n",
    "In this example, we will first show build a simple model and perform \n",
    "**LOCAL** sensitivity analysis"
   ]
  },
  {
   "cell_type": "markdown",
   "metadata": {
    "slideshow": {
     "slide_type": "subslide"
    }
   },
   "source": [
    "## Reference Energy System\n",
    "\n",
    "Consider the simple energy system optimization model below. It includes: \n",
    "\n",
    "- A mining technology to introduce uranium \n",
    "- A nuclear power generation technology\n",
    "- Uranium fuel\n",
    "- Electricity fuel\n",
    "\n",
    "![RES](./examples/Example_One/res.jpg)"
   ]
  },
  {
   "cell_type": "markdown",
   "metadata": {
    "slideshow": {
     "slide_type": "subslide"
    }
   },
   "source": [
    "## Input Data\n",
    "\n",
    "We will add data for: \n",
    "- Capital Costs\n",
    "- Fixed Costs\n",
    "- Variable Costs (including fuel costs)\n",
    "- Powerplant Efficiency \n",
    "- Powerplant Operational Life \n",
    "- Electricity Demand \n",
    "\n",
    "The model will be run given the assumptions: \n",
    "- Model horizon of 50 years \n",
    "- 8 equal time slices per year\n",
    "- Linearly increasing yearly demand"
   ]
  },
  {
   "cell_type": "code",
   "execution_count": null,
   "metadata": {
    "slideshow": {
     "slide_type": "skip"
    }
   },
   "outputs": [],
   "source": [
    "# REFERENCE ONLY. \n",
    "# DATA ALREADY CREATED. \n",
    "# DO NOT CHANGE\n",
    "data_dir = Path('./examples/Example_One/')\n",
    "\n",
    "YEARS = range(2020, 2070)\n",
    "TECHNOLOGIES = ['MINE_URANIUM', 'NUCLEAR']\n",
    "FUELS = ['URANIUM', 'ELECTRICITY']\n",
    "REGIONS = ['R1']\n",
    "TIME_SLICE = ['S1D1', 'S1D2', 'S2D1', 'S2D2','S3D1','S3D2','S4D1','S4D2']\n",
    "YEAR_SPLIT = 0.125\n",
    "MODES = [1]"
   ]
  },
  {
   "cell_type": "markdown",
   "metadata": {},
   "source": [
    "### Add Capital Costs"
   ]
  },
  {
   "cell_type": "code",
   "execution_count": null,
   "metadata": {
    "slideshow": {
     "slide_type": "skip"
    }
   },
   "outputs": [],
   "source": [
    "def add_capex(cost):\n",
    "    years = range(2020, 2070)\n",
    "    df = pd.DataFrame(\n",
    "        [['R1', 'NUCLEAR', years[0], cost]] * len(years), \n",
    "        columns=['REGION', 'TECHNOLOGY', 'YEAR', 'VALUE'])\n",
    "    df['YEAR'] = years\n",
    "    df.to_csv(Path(data_dir, 'data', 'CapitalCost.csv'), index=False)\n",
    "    return df"
   ]
  },
  {
   "cell_type": "code",
   "execution_count": null,
   "metadata": {
    "slideshow": {
     "slide_type": "skip"
    }
   },
   "outputs": [],
   "source": [
    "capex = 4000 # M$ / GW\n",
    "add_capex(capex).head()"
   ]
  },
  {
   "cell_type": "markdown",
   "metadata": {
    "slideshow": {
     "slide_type": "skip"
    }
   },
   "source": [
    "### Add Fixed Operational Costs"
   ]
  },
  {
   "cell_type": "code",
   "execution_count": null,
   "metadata": {
    "slideshow": {
     "slide_type": "skip"
    }
   },
   "outputs": [],
   "source": [
    "def add_fixed(cost):\n",
    "    years = range(2020, 2070)\n",
    "    df = pd.DataFrame(\n",
    "        [['R1', 'NUCLEAR', YEARS[0], cost]] * len(YEARS), \n",
    "        columns=['REGION', 'TECHNOLOGY', 'YEAR', 'VALUE'])\n",
    "    df['YEAR'] = YEARS\n",
    "    df.to_csv(Path(data_dir, 'data', 'FixedCost.csv'), index=False)\n",
    "    return df"
   ]
  },
  {
   "cell_type": "code",
   "execution_count": null,
   "metadata": {
    "slideshow": {
     "slide_type": "skip"
    }
   },
   "outputs": [],
   "source": [
    "fixed = 50 # M$ / GW\n",
    "add_fixed(fixed).head()"
   ]
  },
  {
   "cell_type": "markdown",
   "metadata": {
    "slideshow": {
     "slide_type": "skip"
    }
   },
   "source": [
    "### Add Variable Costs"
   ]
  },
  {
   "cell_type": "code",
   "execution_count": null,
   "metadata": {
    "slideshow": {
     "slide_type": "skip"
    }
   },
   "outputs": [],
   "source": [
    "def add_variable(cost):\n",
    "    years = range(2020, 2070)\n",
    "    df = pd.DataFrame(\n",
    "        [['R1', 'MINE_URANIUM', 1, years[0], cost]] * len(YEARS), \n",
    "        columns=['REGION','TECHNOLOGY','MODE_OF_OPERATION','YEAR','VALUE'])\n",
    "    df['YEAR'] = YEARS\n",
    "    df.to_csv(Path(data_dir, 'data', 'VariableCost.csv'), index=False)\n",
    "    return df"
   ]
  },
  {
   "cell_type": "code",
   "execution_count": null,
   "metadata": {
    "slideshow": {
     "slide_type": "skip"
    }
   },
   "outputs": [],
   "source": [
    "variable = 2.5 # M$ / PJ\n",
    "add_variable(variable).head()"
   ]
  },
  {
   "cell_type": "markdown",
   "metadata": {
    "slideshow": {
     "slide_type": "skip"
    }
   },
   "source": [
    "### Add Nuclear Power Plant Efficiency "
   ]
  },
  {
   "cell_type": "code",
   "execution_count": null,
   "metadata": {
    "slideshow": {
     "slide_type": "skip"
    }
   },
   "outputs": [],
   "source": [
    "def add_efficiency(eff):\n",
    "    years = range(2020, 2070)\n",
    "    df = pd.DataFrame(\n",
    "        [['R1', 'NUCLEAR', 'URANIUM', 1, years[0], eff]] * len(years), \n",
    "        columns=['REGION','TECHNOLOGY','FUEL','MODE_OF_OPERATION','YEAR','VALUE'])\n",
    "    df['YEAR'] = years\n",
    "    df.to_csv(Path(data_dir, 'data', 'InputActivityRatio.csv'), index=False)\n",
    "    return df"
   ]
  },
  {
   "cell_type": "code",
   "execution_count": null,
   "metadata": {
    "slideshow": {
     "slide_type": "skip"
    }
   },
   "outputs": [],
   "source": [
    "eff = 1.25 # 80 %\n",
    "add_efficiency(eff).head()"
   ]
  },
  {
   "cell_type": "markdown",
   "metadata": {
    "slideshow": {
     "slide_type": "skip"
    }
   },
   "source": [
    "### Add Demand"
   ]
  },
  {
   "cell_type": "code",
   "execution_count": null,
   "metadata": {
    "slideshow": {
     "slide_type": "skip"
    }
   },
   "outputs": [],
   "source": [
    "def add_demand(start_value, yearly_increase):\n",
    "    demand_data = []\n",
    "    for year in range(2020, 2070):\n",
    "        demand_data.append([\n",
    "            'R1', \n",
    "            'ELECTRICITY',\n",
    "            year,\n",
    "            start_value*(1+yearly_increase)**(year-YEARS[0])\n",
    "        ])\n",
    "    df = pd.DataFrame(demand_data, columns=['REGION','FUEL','YEAR','VALUE'])\n",
    "    df.to_csv(Path(data_dir, 'data', 'SpecifiedAnnualDemand.csv'), index=False)\n",
    "    return df"
   ]
  },
  {
   "cell_type": "code",
   "execution_count": null,
   "metadata": {
    "slideshow": {
     "slide_type": "skip"
    }
   },
   "outputs": [],
   "source": [
    "start_value = 1000 # PJ\n",
    "yearly_increase = 0.05 # %\n",
    "add_demand(start_value, yearly_increase).head()"
   ]
  },
  {
   "cell_type": "markdown",
   "metadata": {
    "slideshow": {
     "slide_type": "skip"
    }
   },
   "source": [
    "### Add Operational Life"
   ]
  },
  {
   "cell_type": "code",
   "execution_count": null,
   "metadata": {
    "slideshow": {
     "slide_type": "skip"
    }
   },
   "outputs": [],
   "source": [
    "def add_operational_life(op_life):\n",
    "    df = pd.DataFrame([['R1','NUCLEAR',op_life]], columns=['REGION','TECHNOLOGY','VALUE'])\n",
    "    df.to_csv(Path(data_dir, 'data', 'OperationalLife.csv'), index=False)\n",
    "    return df"
   ]
  },
  {
   "cell_type": "code",
   "execution_count": null,
   "metadata": {
    "slideshow": {
     "slide_type": "skip"
    }
   },
   "outputs": [],
   "source": [
    "op_life = 50 # years\n",
    "add_operational_life(op_life).head()"
   ]
  },
  {
   "cell_type": "markdown",
   "metadata": {},
   "source": [
    "## One-at-a-time Sensitivity Analysis"
   ]
  },
  {
   "cell_type": "markdown",
   "metadata": {},
   "source": [
    "Run the model with the baseline input parameters and get a reference objective value"
   ]
  },
  {
   "cell_type": "code",
   "execution_count": null,
   "metadata": {
    "slideshow": {
     "slide_type": "skip"
    }
   },
   "outputs": [],
   "source": [
    "import subprocess\n",
    "\n",
    "def run_model(path_to_data_dir, path_to_model_file, result_file_name):\n",
    "    \n",
    "    subprocess.check_output(\n",
    "        [\n",
    "            \"otoole\", \"convert\", \"datapackage\", \"datafile\", \n",
    "            Path(path_to_data_dir,'datapackage.json'), Path(path_to_data_dir,'data.txt')\n",
    "        ])\n",
    "\n",
    "    subprocess.check_output(\n",
    "        [\n",
    "            \"glpsol\", \n",
    "            \"-m\", Path(path_to_model_file), \n",
    "            \"-d\", Path(path_to_data_dir,'data.txt'), \n",
    "            \"--wlp\", Path(path_to_data_dir,'model.lp'), \"--check\"\n",
    "        ])\n",
    "    subprocess.check_output(\n",
    "        [\n",
    "            \"cbc\", Path(path_to_data_dir,'model.lp'), \"solve\", \n",
    "            \"-solu\", Path(path_to_data_dir,result_file_name)\n",
    "        ])\n",
    "#     os.system(\n",
    "#         'cbc {} solve -solu {}' .format(\n",
    "#             Path(path_to_data_dir,'model.lp'),\n",
    "#             Path(path_to_data_dir,result_file_name)\n",
    "#         )\n",
    "#     )\n",
    "\n",
    "def get_objective_value(result_files):\n",
    "    for result_file in result_files:\n",
    "        print(f'{result_file.name}')\n",
    "        os.system('head -1 {}' .format(Path(result_file)))"
   ]
  },
  {
   "cell_type": "code",
   "execution_count": null,
   "metadata": {
    "slideshow": {
     "slide_type": "skip"
    }
   },
   "outputs": [],
   "source": [
    "run_model(data_dir, './examples/Example_One/osemosys.txt', 'solution.sol')\n",
    "get_objective_value([Path(data_dir, 'solution.sol')])"
   ]
  },
  {
   "cell_type": "markdown",
   "metadata": {
    "slideshow": {
     "slide_type": "subslide"
    }
   },
   "source": [
    "## Model Results\n",
    "\n",
    "Solving the model for total discounted costs produces an objective value  of `$572,721,000,000`. In local sensitivity analysis, we select a single parameter to alter and rerun the model. This will tell us the effect that single parameter has on the results around the optimal location. "
   ]
  },
  {
   "cell_type": "markdown",
   "metadata": {
    "slideshow": {
     "slide_type": "subslide"
    }
   },
   "source": [
    "### Parameter Changes\n",
    "\n",
    "We will change both the **capital costs** and **variable costs** of the nuclear power plant to see how sensitive the results are to these parameters. We will do 5 additional runs for each parameter, resulting in 10 total runs. This summary of model runs and results are given below.  \n",
    "\n",
    " Run      | Capital Costs (M\\$/GW) | Variable Costs (M\\$/PJ) | Objective Cost (M$)\n",
    ":---|---:|---:|---:\n",
    " Original | 4000                  | 2.5                    | 572721              \n",
    " 1        | 2500                  | 2.5                    | 446506              \n",
    " 2        | 3000                  | 2.5                    | 488577              \n",
    " 3        | 3500                  | 2.5                    | 530649              \n",
    " 4        | 4500                  | 2.5                    | 614793              \n",
    " 5        | 5000                  | 2.5                    | 656865              \n",
    " 6        | 4000                  | 1.5                    | 511727              \n",
    " 7        | 4000                  | 2.0                    | 542224              \n",
    " 8        | 4000                  | 3.0                    | 572721              \n",
    " 9        | 4000                  | 3.5                    | 633715              \n",
    " 10       | 4000                  | 4.0                    | 664212              "
   ]
  },
  {
   "cell_type": "code",
   "execution_count": null,
   "metadata": {
    "slideshow": {
     "slide_type": "skip"
    }
   },
   "outputs": [],
   "source": [
    "result_files = []\n",
    "\n",
    "# Iterate over capital cost\n",
    "capital_costs = [2500, 3000, 3500, 4500, 5000]\n",
    "for capital_cost in capital_costs:\n",
    "    add_capex(capital_cost)\n",
    "    result_file = f'capex_{capital_cost}.txt'\n",
    "    result_files.append(Path(data_dir, result_file))\n",
    "    run_model(data_dir, './examples/Example_One/osemosys.txt', result_file)\n",
    "\n",
    "# resest to origianl capital cost\n",
    "add_capex(4000)\n",
    "\n",
    "# Iterate over variable cost\n",
    "var_costs = [1.5, 2.0, 3.0, 3.5, 4.0]\n",
    "for var_cost in var_costs:\n",
    "    add_variable(var_cost)\n",
    "    result_file = f'var_cost_{var_cost}.txt'\n",
    "    result_files.append(Path(data_dir, result_file))\n",
    "    run_model(data_dir, './examples/Example_One/osemosys.txt', result_file)\n",
    "\n",
    "# reset to original variable cost\n",
    "add_variable(2.5)\n",
    "\n",
    "# extract objective costs\n",
    "get_objective_value(result_files)"
   ]
  },
  {
   "cell_type": "markdown",
   "metadata": {
    "slideshow": {
     "slide_type": "skip"
    }
   },
   "source": [
    "Create simple plots to see how the costs change with parameters"
   ]
  },
  {
   "cell_type": "code",
   "execution_count": null,
   "metadata": {
    "slideshow": {
     "slide_type": "skip"
    }
   },
   "outputs": [],
   "source": [
    "def plot_LSA(df_capex, df_var):\n",
    "    fig, axs = plt.subplots(1,2, figsize=(14,5), sharey=True)\n",
    "    df_capex.plot(ax=axs[0], marker='o', title='Effects of Capital Cost', xlabel='Capital Cost (M$/GW)', ylabel='Objective Cost (M$)')\n",
    "    df_var.plot(ax=axs[1], marker='o', title='Effects of Variable Cost', xlabel='Variable Cost (M$/PJ)', ylabel='Objective Cost (M$)')"
   ]
  },
  {
   "cell_type": "code",
   "execution_count": null,
   "metadata": {
    "slideshow": {
     "slide_type": "skip"
    }
   },
   "outputs": [],
   "source": [
    "df_capex = pd.DataFrame([\n",
    "    [2500, 446506],\n",
    "    [3000, 488577],\n",
    "    [3500, 530649],\n",
    "    [4000, 572721],\n",
    "    [4500, 614793],\n",
    "    [5000, 656865],\n",
    "], columns=['Capex', 'Objective_Cost']).set_index('Capex')\n",
    "\n",
    "df_var = pd.DataFrame([\n",
    "    [1.5, 511727],\n",
    "    [2.0, 542224],\n",
    "    [2.5, 572721],\n",
    "    [3.0, 603218],\n",
    "    [3.5, 633715],\n",
    "    [4.0, 664212],\n",
    "], columns=['Var_Cost', 'Objective_Cost']).set_index('Var_Cost')"
   ]
  },
  {
   "cell_type": "code",
   "execution_count": null,
   "metadata": {
    "slideshow": {
     "slide_type": "subslide"
    }
   },
   "outputs": [],
   "source": [
    "plot_LSA(df_capex, df_var)"
   ]
  },
  {
   "cell_type": "markdown",
   "metadata": {
    "slideshow": {
     "slide_type": "subslide"
    }
   },
   "source": [
    "## Disadvantages of local sensitivity analysis\n",
    "\n",
    "A local sensitivity analysis has several weaknesses.  These include the following.\n",
    "\n",
    "### Limited insights into the influence of parameters\n",
    "\n",
    "The steeper gradiant of the capital cost plot shows this is the more influential parameter over our range of values. As we add more parameters and build more complex models, viewing the gradient will become impractical. \n",
    "\n",
    "### Missing interaction effects\n",
    "\n",
    "This example also shows a relatively linear responce between our variables and value of the objective function. While non-linear effects may be identified by this method, interaction effects would not be. As discussed later, variable costs (which include fuel cost) and the efficiency of the power plant will interact. We do not see this interaction through local sensitivity analysis.\n",
    "\n",
    "### Computational expense\n",
    "\n",
    "This approach is inefficient as we need to run one model run per parameter per step."
   ]
  },
  {
   "cell_type": "markdown",
   "metadata": {
    "slideshow": {
     "slide_type": "slide"
    }
   },
   "source": [
    "# Example Two \n",
    "\n",
    "We will repeat example one, except employ **GLOBAL** sensitivity analysis using the Method of Morris."
   ]
  },
  {
   "cell_type": "markdown",
   "metadata": {
    "slideshow": {
     "slide_type": "subslide"
    }
   },
   "source": [
    "## Reference Energy Systen\n",
    "\n",
    "Our RES and included parameters will remain the same as example 1. \n",
    "\n",
    "![RES](./examples/Example_Two/res.jpg)"
   ]
  },
  {
   "cell_type": "markdown",
   "metadata": {
    "slideshow": {
     "slide_type": "subslide"
    }
   },
   "source": [
    "## The Workflow\n",
    "\n",
    "Performing global sensitivity analysis requires running the model many times and careful handling of the results. Therefore, it is beneficial to set up an automated workflow to reduce data handling errors. To execute the workflow, three main steps are required. \n",
    "\n",
    "1. Modify the configuration file\n",
    "2. Run the workflow \n",
    "3. Interpret the results\n",
    "\n",
    "A high-level graphical overview of the the workflow is given below. "
   ]
  },
  {
   "cell_type": "markdown",
   "metadata": {
    "slideshow": {
     "slide_type": "subslide"
    }
   },
   "source": [
    "\n",
    "![workflow](./examples/Example_Two/workflow.jpg)\n"
   ]
  },
  {
   "cell_type": "markdown",
   "metadata": {
    "slideshow": {
     "slide_type": "subslide"
    }
   },
   "source": [
    "## The Configuration File\n",
    "\n",
    "The configuration file contains parameters that define how the sensitivity analysis will be conducted. For each factor we want to test, we can test its sensitivity independently of time. Moreover, if the parameter is defined over time (such as a yearly changing demand), we can also test the sensitivity dependent on time. "
   ]
  },
  {
   "cell_type": "markdown",
   "metadata": {
    "slideshow": {
     "slide_type": "subslide"
    }
   },
   "source": [
    "### Time Independent Factors \n",
    "\n",
    "The figure below highlights the two different options for time-independent factors that can be configured in the workflow. The red lines prepresent the user-entered bounds, while the green lines represent the modelled values. \n",
    "\n",
    "![gsa-options](./examples/Example_Two/gsa_options_fixed.jpg)\n"
   ]
  },
  {
   "cell_type": "markdown",
   "metadata": {
    "slideshow": {
     "slide_type": "notes"
    }
   },
   "source": [
    "### Option One\n",
    "\n",
    "We specify a fixed start point. This results in **no sensitivity analysis** being performed, because we are not varying the parameter over different model runs. \n",
    "\n",
    "### Option Two\n",
    "\n",
    "We specify a moving start point, represented by the red bars. This can be beneficial in situations where we know the parameter value will not change throughout the model run, but want to test the sensitivity of this fixed value. For example, the operational life of a powerplant. "
   ]
  },
  {
   "cell_type": "markdown",
   "metadata": {
    "slideshow": {
     "slide_type": "subslide"
    }
   },
   "source": [
    "### Time Dependent Factors \n",
    "\n",
    "The figure below highlights three different options for time-dependent factors that can be configured in the workflow. The red lines represent the user-entered bounds, while the green lines represent the interpolated values. \n",
    "\n",
    "![gsa-options](./examples/Example_Two/gsa_options_interpolate.jpg)\n"
   ]
  },
  {
   "cell_type": "markdown",
   "metadata": {
    "slideshow": {
     "slide_type": "notes"
    }
   },
   "source": [
    "### Option One\n",
    "\n",
    "We specify fixed start and end points. This results in **no sensitivity analysis** being performed, because we are not varying the parameter over different model runs. \n",
    "\n",
    "### Option Two\n",
    "\n",
    "We specify a fixed start point, and a moving end point. This can be beneficial in scenario where we know the starting value, but are uncertain about how the value will change in time. For example, the annual demand of our start year may be a known value, but we are uncertain how this will progress throughout the model horizon.\n",
    "Note that we currently interpolate linearly between the two points but this could include different shapes in the future.\n",
    "\n",
    "### Option Three\n",
    "\n",
    "We specify moving start and end points. This is appropriate to test the sensitivity of values when uncertain of both current and future values. For example, fuel costs are always changing, and testing the sensitivity of these changes on your model may be important."
   ]
  },
  {
   "cell_type": "markdown",
   "metadata": {
    "slideshow": {
     "slide_type": "subslide"
    }
   },
   "source": [
    "### Modify the Configuration File\n",
    "\n",
    "Navigate to [`examples/Example_Two/parameters.csv`](../edit/examples/Example_Two/parameters.csv) file and add sensitivity parameters for the `CapitalCost`, `VariableCost`, and `InputActivityRatio` (defined as 1/efficiency). The formatted parameter csv should look similar to the following. The `interpolation_index` value is either `fixed` or `interpolate` for time independent and time dependent parameters respectively. \n",
    "\n",
    "Feel free to user your own values for the min/max values!\n",
    "\n",
    "|name |group|indexes|min_value_base_year|max_value_base_year|min_value_end_year|max_value_end_year|dist|interpolation_index|action|\n",
    "|-----|-----|-------|-------------------|-------------------|------------------|------------------|----|-------------------|------|\n",
    "|CapitalCost  |capital  |\"R1,NUCLEAR\"        |4000 |5000 |2000 |3000 |\"unif\" |\"YEAR\" |\"interpolate\" |\n",
    "|VariableCost |variable |\"R1,MINE_URANIUM,1\" |3.5  |4.0  |1.5  |1.75 |\"unif\" |\"YEAR\" |\"interpolate\" |\n",
    "|InputActivityRatio | IAR |\"R1,NUCLEAR,URANIUM,1\" |1.3 | 1.5 | 1.05 | 1.2 | \"unif\" | \"YEAR\" | \"interpolate\" |"
   ]
  },
  {
   "cell_type": "markdown",
   "metadata": {
    "slideshow": {
     "slide_type": "subslide"
    }
   },
   "source": [
    "### Run the Workflow\n",
    "\n",
    "Once we have defined our sensitivity parameters, we can run the workflow"
   ]
  },
  {
   "cell_type": "code",
   "execution_count": null,
   "metadata": {
    "slideshow": {
     "slide_type": "fragment"
    }
   },
   "outputs": [],
   "source": [
    "!snakemake --cores 4  clean --configfile examples/Example_Two/config.yaml --quiet"
   ]
  },
  {
   "cell_type": "code",
   "execution_count": null,
   "metadata": {
    "slideshow": {
     "slide_type": "fragment"
    }
   },
   "outputs": [],
   "source": [
    "!snakemake --cores 4 --configfile examples/Example_Two/config.yaml --quiet"
   ]
  },
  {
   "cell_type": "markdown",
   "metadata": {
    "slideshow": {
     "slide_type": "subslide"
    }
   },
   "source": [
    "## View Results \n",
    "\n",
    "The global sensitivity analysis method used is Method of Morris (or elementary effects). \n",
    "This screening method produces three sensitivity measures, $mu$, $mu*$, and $\\sigma$.\n",
    "\n",
    "- $mu$ estimates the mean of the distribution of the elementary effects\n",
    "- $mu*$ estimates the mean of the distribution of the absolute elementary effects \n",
    "- $\\sigma$ (the standard deviation) provides an indication of the nonlinear effects and/or interactions with other factors\n",
    "\n",
    "The purpose of calculating $mu*$ in addition to $mu$ is that $mu$ may fail to identify a factor with considerable influence on the model. This can happen when both positive and negative effects are present, which are then cancelled out."
   ]
  },
  {
   "cell_type": "markdown",
   "metadata": {
    "slideshow": {
     "slide_type": "subslide"
    }
   },
   "source": [
    "### Tabular Results\n",
    "\n",
    "Tabluar results are found in the file [`results/SA_0.csv`](../edit/results/SA_0.csv)"
   ]
  },
  {
   "cell_type": "code",
   "execution_count": null,
   "metadata": {
    "slideshow": {
     "slide_type": "fragment"
    }
   },
   "outputs": [],
   "source": [
    "pd.read_csv('results/SA_0.csv', index_col=0)"
   ]
  },
  {
   "cell_type": "markdown",
   "metadata": {
    "slideshow": {
     "slide_type": "subslide"
    }
   },
   "source": [
    "### Graphical Results\n",
    "\n",
    "Graphical results are found in the file [`results/0_summary/SA_objective.png`](results/0_summary/SA_objective.png)"
   ]
  },
  {
   "cell_type": "code",
   "execution_count": null,
   "metadata": {
    "slideshow": {
     "slide_type": "subslide"
    }
   },
   "outputs": [],
   "source": [
    "display.Image('./results/SA_0.png')"
   ]
  },
  {
   "cell_type": "markdown",
   "metadata": {
    "slideshow": {
     "slide_type": "notes"
    }
   },
   "source": [
    "### Interpreting Results\n",
    "\n",
    "Capital cost is the most influential factor, of the ones tested, on the total discounted cost of the system. There is no interaction between capital costs and variable costs or input activity ratio. Variable costs and the input activity ratio have non-linear effects and/or interact with each other. "
   ]
  },
  {
   "cell_type": "markdown",
   "metadata": {
    "slideshow": {
     "slide_type": "slide"
    }
   },
   "source": [
    "# Example 3\n",
    "\n",
    "In this example, it's now up to you to modify the sensitivity parameters ! "
   ]
  },
  {
   "cell_type": "markdown",
   "metadata": {
    "slideshow": {
     "slide_type": "subslide"
    }
   },
   "source": [
    "## Reference Energy System\n",
    "\n",
    "Our RES and included parameters will remain the same. \n",
    "\n",
    "![RES](./examples/Example_Three/res.jpg)"
   ]
  },
  {
   "cell_type": "markdown",
   "metadata": {
    "slideshow": {
     "slide_type": "subslide"
    }
   },
   "source": [
    "### Modify the Configuration File\n",
    "\n",
    "Navigate to [`examples/Example_Three/parameters.csv`](../edit/examples/Example_Three/parameters.csv) file and add sensitivity parameters. The available parameters to explore are shown below. Modify the configuration file values however you want ! \n",
    "\n",
    "|name |group|indexes|min_value_base_year|max_value_base_year|min_value_end_year|max_value_end_year|dist|interpolation_index|action|\n",
    "|-----|-----|-------|-------------------|-------------------|------------------|------------------|----|-------------------|------|\n",
    "|CapitalCost           |capital  |\"R1,NUCLEAR\"                |XXX |XXX |XXX |XXX |\"unif\" |\"YEAR\" |\"interpolate\" |\n",
    "|FixedCost             |fixed    |\"R1,NUCLEAR\"                |XXX |XXX |XXX |XXX |\"unif\" |\"YEAR\" |\"interpolate\" |\n",
    "|VariableCost          |variable |\"R1,MINE_URANIUM,1\"         |XXX |XXX |XXX |XXX |\"unif\" |\"YEAR\" |\"interpolate\" |\n",
    "|SpecifiedAnnualDemand |demand   |\"R1,ELECTRICITY\"            |XXX |XXX |XXX |XXX |\"unif\" |\"YEAR\" |\"interpolate\" |\n",
    "|InputActivityRatio    |iar      |\"R1,NUCLEAR,URANIUM,1\"      |XXX |XXX |XXX |XXX |\"unif\" |\"YEAR\" |\"interpolate\" |\n",
    "|OperationalLife       |oplife   |\"R1,NUCLEAR\"                |XXX |XXX |XXX |XXX |\"unif\" |\"YEAR\" |\"interpolate\" |"
   ]
  },
  {
   "cell_type": "markdown",
   "metadata": {
    "slideshow": {
     "slide_type": "subslide"
    }
   },
   "source": [
    "### Run the Workflow"
   ]
  },
  {
   "cell_type": "code",
   "execution_count": null,
   "metadata": {
    "slideshow": {
     "slide_type": "fragment"
    }
   },
   "outputs": [],
   "source": [
    "!snakemake clean --cores 4 --configfile examples/Example_Three/config.yaml --quiet"
   ]
  },
  {
   "cell_type": "code",
   "execution_count": null,
   "metadata": {
    "slideshow": {
     "slide_type": "fragment"
    }
   },
   "outputs": [],
   "source": [
    "!snakemake --cores 4 --configfile examples/Example_Three/config.yaml --quiet"
   ]
  },
  {
   "cell_type": "markdown",
   "metadata": {
    "slideshow": {
     "slide_type": "skip"
    }
   },
   "source": [
    "### View Results"
   ]
  },
  {
   "cell_type": "code",
   "execution_count": null,
   "metadata": {
    "slideshow": {
     "slide_type": "skip"
    }
   },
   "outputs": [],
   "source": [
    "pd.read_csv('results/SA_0.csv', index_col=0)"
   ]
  },
  {
   "cell_type": "code",
   "execution_count": null,
   "metadata": {
    "slideshow": {
     "slide_type": "skip"
    }
   },
   "outputs": [],
   "source": [
    "display.Image('./results/SA_0.png')"
   ]
  },
  {
   "cell_type": "markdown",
   "metadata": {
    "slideshow": {
     "slide_type": "slide"
    }
   },
   "source": [
    "# Summary "
   ]
  },
  {
   "cell_type": "markdown",
   "metadata": {
    "slideshow": {
     "slide_type": "subslide"
    }
   },
   "source": [
    "In this tutorial we have explored how global sensitivity analysis can be applied to very simple energy system optimization model. We applied the Method of Morris to identify influential parameters and parameters that have non-linear and/or interaction with other parameters. In comparison to local sensitivity analysis, global sensitivity analysis allows us explore a wide array of the solution space and identify the important factors. \n",
    "\n",
    "During this tutorial, we looked at the sensitivity of one out, total discounted system cost, but we can perform sensitivity analysis for any model output variable of interest. For example, installed capacity, emissions or production. \n",
    "\n",
    "We used the Method of Morris to conduct the sensitivity analysis as it allows us to extract sufficient preliminary information with minimal model runs. This is beneficial as energy system optimization models can often have multi-hour run times. Other variance based global sensitivity methods, including those provided by the Python library SALib, can provide more information into the behaviour of the model, with the caveat that this often requires more model runs."
   ]
  },
  {
   "cell_type": "code",
   "execution_count": null,
   "metadata": {},
   "outputs": [],
   "source": []
  }
 ],
 "metadata": {
  "celltoolbar": "Slideshow",
  "kernelspec": {
   "display_name": "Python 3 (ipykernel)",
   "language": "python",
   "name": "python3"
  },
  "language_info": {
   "codemirror_mode": {
    "name": "ipython",
    "version": 3
   },
   "file_extension": ".py",
   "mimetype": "text/x-python",
   "name": "python",
   "nbconvert_exporter": "python",
   "pygments_lexer": "ipython3"
  },
  "vscode": {
   "interpreter": {
    "hash": "f0f8c7ae30e7392bb8cd183c79221a78b2c2aa0222e944f52c7e91613af78833"
   }
  }
 },
 "nbformat": 4,
 "nbformat_minor": 2
}
