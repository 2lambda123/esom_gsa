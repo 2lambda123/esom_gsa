{
 "cells": [
  {
   "cell_type": "code",
   "execution_count": 1,
   "metadata": {
    "slideshow": {
     "slide_type": "skip"
    }
   },
   "outputs": [],
   "source": [
    "import pandas as pd\n",
    "import SALib\n",
    "from pathlib import Path\n",
    "import numpy as np\n",
    "import os\n",
    "import subprocess\n",
    "import sys\n",
    "import matplotlib.pyplot as plt\n",
    "from IPython import display"
   ]
  },
  {
   "cell_type": "markdown",
   "metadata": {
    "slideshow": {
     "slide_type": "skip"
    }
   },
   "source": [
    "To view this notebook as slides, run `jupyter nbconvert Tutorial.ipynb --to slides --post serve` on the command line\n",
    "\n",
    "Run this in Binder\n",
    "[![Binder](https://mybinder.org/badge_logo.svg)](https://mybinder.org/v2/gh/KTH-dESA/esom_gsa/envs?labpath=Tutorial.ipynb)"
   ]
  },
  {
   "cell_type": "markdown",
   "metadata": {
    "slideshow": {
     "slide_type": "slide"
    }
   },
   "source": [
    "# ECEMP Skills Workshop: Global Sensitivity Analysis\n",
    "\n",
    "- Will Usher, KTH Royal Institute of Technology\n",
    "- Trevor Barnes, Simon Fraser University"
   ]
  },
  {
   "cell_type": "markdown",
   "metadata": {
    "slideshow": {
     "slide_type": "slide"
    }
   },
   "source": [
    "Join the [menti](https://www.menti.com/alhebjoi4h3i) by going to [menti.com](https://www.menti.com) and using the code 4649 2930 (available between 5-7th October)."
   ]
  },
  {
   "cell_type": "markdown",
   "metadata": {
    "slideshow": {
     "slide_type": "slide"
    }
   },
   "source": [
    "# Introduction"
   ]
  },
  {
   "cell_type": "markdown",
   "metadata": {
    "slideshow": {
     "slide_type": "subslide"
    }
   },
   "source": [
    "## What is global sensitivity analysis?\n",
    "\n",
    "- Global sensitivity analysis is “*the study of how uncertainty in the output of a model...can be apportioned to different sources of uncertainty in the model input*”. \n",
    "- “Global” means that all parameters are moved over their input ranges at the same time.\n",
    "- By contrast, in one-at-a-time (OAT) sensitivity analysis, only one dimension of the model input space is explored while holding all other dimensions at their central value.\n",
    "- An excellent introduction to global sensitivity analysis can be found in Saltelli (2007)."
   ]
  },
  {
   "cell_type": "markdown",
   "metadata": {
    "slideshow": {
     "slide_type": "subslide"
    }
   },
   "source": [
    "## Why perform global sensitivity analysis?\n",
    "\n",
    "- Most energy system optimisation modelling studies use scenario analysis\n",
    "- Global sensitivity analysis can supplement and support scenario analysis\n",
    "  - identify key drivers of model results (factor prioritisation)\n",
    "  - identify unimportant parameters (factor fixing)\n",
    "  - identify interesting areas of the input space (factor mapping)"
   ]
  },
  {
   "cell_type": "markdown",
   "metadata": {
    "slideshow": {
     "slide_type": "subslide"
    }
   },
   "source": [
    "## Methods for conducting global sensitivity analysis\n",
    "\n",
    "Variance-based approaches compute the proportion of the variance in the output that is explained by variation in the input. \n",
    "\n",
    "- Computation of a first-order (only the direct effect) and total-order (direct and interaction effects) index for each input recovers all interaction and non-linear effects of a model. \n",
    "- Variance-based approaches require a relatively large number $(500(k+2))$ of model runs.\n",
    "\n",
    "Elementary effects test, or “Method of Morris” lowers computationally needs $(10(k+1))$ by computing an average of local derivatives over a discrete space of input parameters.\n",
    "\n",
    "- It provides an estimate for the total-order index produced by more advanced variance-based approaches \n",
    "- can be applied to groups of inputs to increase coverage and reduce computational demands."
   ]
  },
  {
   "cell_type": "markdown",
   "metadata": {
    "slideshow": {
     "slide_type": "subslide"
    }
   },
   "source": [
    "## Tools for performing global sensitivity analyses\n",
    "\n",
    "The Python library [SALib](http://salib.github.io/SALib/) provides implementations of powerful global sensitivity analysis approaches.\n",
    "\n",
    "\n",
    "-   Sobol Sensitivity Analysis ([Sobol\n",
    "    2001](http://www.sciencedirect.com/science/article/pii/S0378475400002706), [Saltelli\n",
    "    2002](http://www.sciencedirect.com/science/article/pii/S0010465502002801), [Saltelli et al.\n",
    "    2010](http://www.sciencedirect.com/science/article/pii/S0010465509003087))\n",
    "\n",
    "-   Method of Morris, including groups and optimal trajectories ([Morris\n",
    "    1991](http://www.tandfonline.com/doi/abs/10.1080/00401706.1991.10484804), [Campolongo et al.\n",
    "    2007](http://www.sciencedirect.com/science/article/pii/S1364815206002805))\n",
    "\n",
    "-   Fourier Amplitude Sensitivity Test (FAST) ([Cukier et al.\n",
    "    1973](http://scitation.aip.org/content/aip/journal/jcp/59/8/10.1063/1.1680571), [Saltelli et al.\n",
    "    1999](http://amstat.tandfonline.com/doi/abs/10.1080/00401706.1999.10485594))\n",
    "\n",
    "-   Random Balance Designs - Fourier Amplitude Sensitivity Test\n",
    "    (RBD-FAST) ([Tarantola et al.\n",
    "    2006](https://hal.archives-ouvertes.fr/hal-01065897/file/Tarantola06RESS_HAL.pdf), [Elmar Plischke\n",
    "    2010](https://doi.org/10.1016/j.ress.2009.11.005), [Tissot et al.\n",
    "    2012](https://doi.org/10.1016/j.ress.2012.06.010))\n",
    "\n",
    "-   Delta Moment-Independent Measure ([Borgonovo\n",
    "    2007](http://www.sciencedirect.com/science/article/pii/S0951832006000883), [Plischke et al.\n",
    "    2013](http://www.sciencedirect.com/science/article/pii/S0377221712008995))\n",
    "\n",
    "-   Derivative-based Global Sensitivity Measure (DGSM) ([Sobol and\n",
    "    Kucherenko\n",
    "    2009](http://www.sciencedirect.com/science/article/pii/S0378475409000354))\n",
    "\n",
    "-   Fractional Factorial Sensitivity Analysis ([Saltelli et al.\n",
    "    2008](http://www.wiley.com/WileyCDA/WileyTitle/productCd-0470059974.html))\n",
    "\n",
    "-   High Dimensional Model Representation ([Li et al.\n",
    "    2010](https://pubs.acs.org/doi/pdf/10.1021/jp9096919))\n",
    "    \n",
    "   "
   ]
  },
  {
   "cell_type": "code",
   "execution_count": 2,
   "metadata": {
    "slideshow": {
     "slide_type": "skip"
    }
   },
   "outputs": [],
   "source": [
    "from SALib import ProblemSpec\n",
    "from SALib.test_functions import Ishigami"
   ]
  },
  {
   "cell_type": "markdown",
   "metadata": {
    "slideshow": {
     "slide_type": "subslide"
    }
   },
   "source": [
    "To use the SALib libary, you first define a `ProblemSpec` containing the names and bounds of your variables."
   ]
  },
  {
   "cell_type": "code",
   "execution_count": 3,
   "metadata": {
    "slideshow": {
     "slide_type": "fragment"
    }
   },
   "outputs": [],
   "source": [
    "# By convention, we assign to \"sp\" (for \"SALib Problem\")\n",
    "sp = ProblemSpec({\n",
    "  'names': ['x1', 'x2', 'x3'],    # Name of each parameter\n",
    "  'bounds': [[-np.pi, np.pi]]*3,  # bounds of each parameter\n",
    "  'outputs': ['Y']                # name of outputs in expected order\n",
    "})"
   ]
  },
  {
   "cell_type": "markdown",
   "metadata": {
    "slideshow": {
     "slide_type": "fragment"
    }
   },
   "source": [
    "Then you create a sample using the method of your choice."
   ]
  },
  {
   "cell_type": "code",
   "execution_count": 4,
   "metadata": {
    "slideshow": {
     "slide_type": "fragment"
    }
   },
   "outputs": [],
   "source": [
    "# Create the sample\n",
    "sp = sp.sample_saltelli(1024, calc_second_order=True)"
   ]
  },
  {
   "cell_type": "markdown",
   "metadata": {
    "slideshow": {
     "slide_type": "subslide"
    }
   },
   "source": [
    "You run your model many times, once for each row of the sample."
   ]
  },
  {
   "cell_type": "code",
   "execution_count": 5,
   "metadata": {
    "slideshow": {
     "slide_type": "fragment"
    }
   },
   "outputs": [],
   "source": [
    "# Run the model\n",
    "sp = sp.evaluate(Ishigami.evaluate)"
   ]
  },
  {
   "cell_type": "markdown",
   "metadata": {
    "slideshow": {
     "slide_type": "fragment"
    }
   },
   "source": [
    "Finally, you run the matching analysis method for each model output you wish to perform the global sensitivity analysis."
   ]
  },
  {
   "cell_type": "code",
   "execution_count": 6,
   "metadata": {
    "slideshow": {
     "slide_type": "fragment"
    }
   },
   "outputs": [],
   "source": [
    "# Run the analysis method\n",
    "sp = sp.analyze_sobol(print_to_console=False)"
   ]
  },
  {
   "cell_type": "code",
   "execution_count": 8,
   "metadata": {
    "slideshow": {
     "slide_type": "subslide"
    }
   },
   "outputs": [
    {
     "name": "stdout",
     "output_type": "stream",
     "text": [
      "Samples:\n",
      "\t3 parameters: ['x1', 'x2', 'x3']\n",
      "\t8192 evaluations\n",
      "Outputs:\n",
      "\t1 outputs: ['Y']\n",
      "\t8192 evaluations\n",
      "Analysis:\n",
      "          ST   ST_conf\n",
      "x1  0.555860  0.084997\n",
      "x2  0.441898  0.036580\n",
      "x3  0.244675  0.025757\n",
      "          S1   S1_conf\n",
      "x1  0.316832  0.066864\n",
      "x2  0.443763  0.049810\n",
      "x3  0.012203  0.059574\n",
      "                S2   S2_conf\n",
      "(x1, x2)  0.009254  0.081129\n",
      "(x1, x3)  0.238172  0.109160\n",
      "(x2, x3) -0.004888  0.067258\n",
      "\n"
     ]
    }
   ],
   "source": [
    "# Samples, model results and analyses can be extracted from the ProblemSpec\n",
    "print(sp)"
   ]
  },
  {
   "cell_type": "code",
   "execution_count": 9,
   "metadata": {
    "slideshow": {
     "slide_type": "subslide"
    }
   },
   "outputs": [
    {
     "data": {
      "text/plain": [
       "array([<Axes: >, <Axes: >, <Axes: >], dtype=object)"
      ]
     },
     "execution_count": 9,
     "metadata": {},
     "output_type": "execute_result"
    },
    {
     "data": {
      "image/png": "[encoded data removed]",
      "text/plain": [
       "<Figure size 640x480 with 3 Axes>"
      ]
     },
     "metadata": {},
     "output_type": "display_data"
    }
   ],
   "source": [
    "# Basic plotting functionality is also provided\n",
    "sp.plot()"
   ]
  },
  {
   "cell_type": "code",
   "execution_count": 10,
   "metadata": {
    "slideshow": {
     "slide_type": "skip"
    }
   },
   "outputs": [
    {
     "name": "stdout",
     "output_type": "stream",
     "text": [
      "Samples:\n",
      "\t3 parameters: ['x1', 'x2', 'x3']\n",
      "\t40 evaluations\n",
      "Outputs:\n",
      "\t1 outputs: ['Y']\n",
      "\t40 evaluations\n",
      "Analysis:\n",
      "           mu    mu_star     sigma  mu_star_conf\n",
      "x1  12.703091  12.703091  3.952086  2.607558e+00\n",
      "x2   1.575000   7.875000  8.133265  3.499135e-15\n",
      "x3  -1.249759   1.249759  3.952086  2.330815e+00\n",
      "\n"
     ]
    },
    {
     "data": {
      "text/plain": [
       "<Axes: >"
      ]
     },
     "execution_count": 10,
     "metadata": {},
     "output_type": "execute_result"
    },
    {
     "data": {
      "image/png": "[encoded data removed]",
      "text/plain": [
       "<Figure size 640x480 with 1 Axes>"
      ]
     },
     "metadata": {},
     "output_type": "display_data"
    }
   ],
   "source": [
    "from SALib import ProblemSpec\n",
    "from SALib.test_functions import Ishigami\n",
    "\n",
    "# By convention, we assign to \"sp\" (for \"SALib Problem\")\n",
    "sp = ProblemSpec({\n",
    "  'names': ['x1', 'x2', 'x3'],    # Name of each parameter\n",
    "  'bounds': [[-np.pi, np.pi]]*3,  # bounds of each parameter\n",
    "  'outputs': ['Y']                # name of outputs in expected order\n",
    "})\n",
    "\n",
    "# Create the sample\n",
    "sp.sample_morris(100, optimal_trajectories=10, local_optimization=True, num_levels=4)\n",
    "\n",
    "# Run the model\n",
    "sp.evaluate(Ishigami.evaluate)\n",
    "\n",
    "# Run the matching analysis method\n",
    "sp.analyze_morris(print_to_console=False)\n",
    "\n",
    "# Samples, model results and analyses can be extracted:\n",
    "print(sp)\n",
    "\n",
    "# Basic plotting functionality is also provided\n",
    "sp.plot()"
   ]
  },
  {
   "cell_type": "markdown",
   "metadata": {
    "slideshow": {
     "slide_type": "subslide"
    }
   },
   "source": [
    "# References\n",
    "\n",
    "Andrea Saltelli, Marco Ratto, Terry Andres, Francesca Campolongo, Jessica Cariboni, Debora Gatelli, Michaela Saisana, and Stefano Tarantola. Global Sensitivity Analysis. The Primer. 1st ed. John Wiley & Sons, Ltd, 2007. [doi:10.1002/9780470725184](https://doi.org/10.1002/9780470725184).\n",
    "\n",
    "Iwanaga, T., Usher, W., & Herman, J. (2022). Toward SALib 2.0: Advancing the accessibility and interpretability of global sensitivity analyses. Socio-Environmental Systems Modelling, 4, 18155. [doi:10.18174/sesmo.18155](https://doi.org/10.21105/joss.00097)\n",
    "\n",
    "Herman, J. and Usher, W. (2017) SALib: An open-source Python library for sensitivity analysis. Journal of Open Source Software, 2(9). [doi:10.21105/joss.00097](https://doi.org/10.21105/joss.00097)"
   ]
  },
  {
   "cell_type": "markdown",
   "metadata": {
    "slideshow": {
     "slide_type": "slide"
    }
   },
   "source": [
    "# Example One\n",
    "\n",
    "In this example, we will first show build a simple model and perform \n",
    "**LOCAL** sensitivity analysis"
   ]
  },
  {
   "cell_type": "markdown",
   "metadata": {
    "slideshow": {
     "slide_type": "subslide"
    }
   },
   "source": [
    "## Reference Energy System\n",
    "\n",
    "Consider the simple energy system optimization model below. It includes: \n",
    "\n",
    "- A mining technology to introduce uranium \n",
    "- A nuclear power generation technology\n",
    "- Uranium fuel\n",
    "- Electricity fuel\n",
    "\n",
    "![RES](./examples/figures/res.jpg)"
   ]
  },
  {
   "cell_type": "markdown",
   "metadata": {
    "slideshow": {
     "slide_type": "subslide"
    }
   },
   "source": [
    "## Input Data\n",
    "\n",
    "We will add data for: \n",
    "- Capital Costs\n",
    "- Fixed Costs\n",
    "- Variable Costs (including fuel costs)\n",
    "- Powerplant Efficiency \n",
    "- Powerplant Operational Life \n",
    "- Electricity Demand \n",
    "\n",
    "The model will be run given the assumptions: \n",
    "- Model horizon of 50 years \n",
    "- 8 equal time slices per year\n",
    "- Linearly increasing yearly demand"
   ]
  },
  {
   "cell_type": "markdown",
   "metadata": {},
   "source": [
    "### Helper Functions "
   ]
  },
  {
   "cell_type": "code",
   "execution_count": 11,
   "metadata": {},
   "outputs": [],
   "source": [
    "def make_set(data, save):\n",
    "    df = pd.DataFrame(data={\"VALUE\":data})\n",
    "    df.to_csv(save, index=False)"
   ]
  },
  {
   "cell_type": "code",
   "execution_count": 12,
   "metadata": {},
   "outputs": [],
   "source": [
    "def make_param(data, param_value, save=None):\n",
    "    df = pd.DataFrame(data=data)\n",
    "    for col in data.keys():\n",
    "        df = df.explode(column=col)\n",
    "    df = df.reset_index(drop=True)\n",
    "    df[\"VALUE\"] = param_value\n",
    "    if save:\n",
    "        df.to_csv(save, index=False)\n",
    "    return df"
   ]
  },
  {
   "cell_type": "code",
   "execution_count": 13,
   "metadata": {},
   "outputs": [],
   "source": [
    "example_dir = Path('./examples/1/')\n",
    "data_dir = Path(example_dir, \"data\")\n",
    "if not data_dir.exists():\n",
    "    data_dir.mkdir()"
   ]
  },
  {
   "cell_type": "markdown",
   "metadata": {},
   "source": [
    "#### Create Template Data"
   ]
  },
  {
   "cell_type": "code",
   "execution_count": 15,
   "metadata": {},
   "outputs": [],
   "source": [
    "if not Path(data_dir).is_dir():\n",
    "    subprocess.check_output([\"otoole\", \"setup\", \"csv\", Path(data_dir)])"
   ]
  },
  {
   "cell_type": "markdown",
   "metadata": {},
   "source": [
    "### Create Data"
   ]
  },
  {
   "cell_type": "code",
   "execution_count": 16,
   "metadata": {
    "slideshow": {
     "slide_type": "skip"
    }
   },
   "outputs": [],
   "source": [
    "years = range(2020, 2071)\n",
    "make_set(years, str(Path(data_dir, \"YEAR.csv\")))\n",
    "techs = ['MINE_URANIUM', 'NUCLEAR']\n",
    "make_set(techs, str(Path(data_dir, \"TECHNOLOGY.csv\")))\n",
    "fuels = ['URANIUM', 'ELECTRICITY']\n",
    "make_set(fuels, str(Path(data_dir, \"FUEL.csv\")))\n",
    "regions = ['R1']\n",
    "make_set(regions, str(Path(data_dir, \"REGION.csv\")))\n",
    "ts = ['S1D1', 'S1D2', 'S2D1', 'S2D2','S3D1','S3D2','S4D1','S4D2']\n",
    "make_set(ts, str(Path(data_dir, \"TIMESLICE.csv\")))\n",
    "modes = [1]\n",
    "make_set(modes, str(Path(data_dir, \"MODE_OF_OPERATION.csv\")))"
   ]
  },
  {
   "cell_type": "markdown",
   "metadata": {},
   "source": [
    "#### Add Capital Costs"
   ]
  },
  {
   "cell_type": "code",
   "execution_count": 17,
   "metadata": {},
   "outputs": [
    {
     "data": {
      "text/html": [
       "<div>\n",
       "<style scoped>\n",
       "    .dataframe tbody tr th:only-of-type {\n",
       "        vertical-align: middle;\n",
       "    }\n",
       "\n",
       "    .dataframe tbody tr th {\n",
       "        vertical-align: top;\n",
       "    }\n",
       "\n",
       "    .dataframe thead th {\n",
       "        text-align: right;\n",
       "    }\n",
       "</style>\n",
       "<table border=\"1\" class=\"dataframe\">\n",
       "  <thead>\n",
       "    <tr style=\"text-align: right;\">\n",
       "      <th></th>\n",
       "      <th>REGION</th>\n",
       "      <th>TECHNOLOGY</th>\n",
       "      <th>YEAR</th>\n",
       "      <th>VALUE</th>\n",
       "    </tr>\n",
       "  </thead>\n",
       "  <tbody>\n",
       "    <tr>\n",
       "      <th>0</th>\n",
       "      <td>R1</td>\n",
       "      <td>NUCLEAR</td>\n",
       "      <td>2020</td>\n",
       "      <td>4000</td>\n",
       "    </tr>\n",
       "    <tr>\n",
       "      <th>1</th>\n",
       "      <td>R1</td>\n",
       "      <td>NUCLEAR</td>\n",
       "      <td>2021</td>\n",
       "      <td>4000</td>\n",
       "    </tr>\n",
       "    <tr>\n",
       "      <th>2</th>\n",
       "      <td>R1</td>\n",
       "      <td>NUCLEAR</td>\n",
       "      <td>2022</td>\n",
       "      <td>4000</td>\n",
       "    </tr>\n",
       "    <tr>\n",
       "      <th>3</th>\n",
       "      <td>R1</td>\n",
       "      <td>NUCLEAR</td>\n",
       "      <td>2023</td>\n",
       "      <td>4000</td>\n",
       "    </tr>\n",
       "    <tr>\n",
       "      <th>4</th>\n",
       "      <td>R1</td>\n",
       "      <td>NUCLEAR</td>\n",
       "      <td>2024</td>\n",
       "      <td>4000</td>\n",
       "    </tr>\n",
       "  </tbody>\n",
       "</table>\n",
       "</div>"
      ],
      "text/plain": [
       "  REGION TECHNOLOGY  YEAR  VALUE\n",
       "0     R1    NUCLEAR  2020   4000\n",
       "1     R1    NUCLEAR  2021   4000\n",
       "2     R1    NUCLEAR  2022   4000\n",
       "3     R1    NUCLEAR  2023   4000\n",
       "4     R1    NUCLEAR  2024   4000"
      ]
     },
     "execution_count": 17,
     "metadata": {},
     "output_type": "execute_result"
    }
   ],
   "source": [
    "capex = 4000 # M$ / GW\n",
    "capex_indices = {\n",
    "    \"REGION\": [regions],\n",
    "    \"TECHNOLOGY\": [\"NUCLEAR\"],\n",
    "    \"YEAR\": [years]\n",
    "}\n",
    "make_param(capex_indices, capex, str(Path(data_dir, \"CapitalCost.csv\"))).head()"
   ]
  },
  {
   "cell_type": "markdown",
   "metadata": {
    "slideshow": {
     "slide_type": "skip"
    }
   },
   "source": [
    "#### Add Fixed Operational Costs"
   ]
  },
  {
   "cell_type": "code",
   "execution_count": 18,
   "metadata": {},
   "outputs": [
    {
     "data": {
      "text/html": [
       "<div>\n",
       "<style scoped>\n",
       "    .dataframe tbody tr th:only-of-type {\n",
       "        vertical-align: middle;\n",
       "    }\n",
       "\n",
       "    .dataframe tbody tr th {\n",
       "        vertical-align: top;\n",
       "    }\n",
       "\n",
       "    .dataframe thead th {\n",
       "        text-align: right;\n",
       "    }\n",
       "</style>\n",
       "<table border=\"1\" class=\"dataframe\">\n",
       "  <thead>\n",
       "    <tr style=\"text-align: right;\">\n",
       "      <th></th>\n",
       "      <th>REGION</th>\n",
       "      <th>TECHNOLOGY</th>\n",
       "      <th>YEAR</th>\n",
       "      <th>VALUE</th>\n",
       "    </tr>\n",
       "  </thead>\n",
       "  <tbody>\n",
       "    <tr>\n",
       "      <th>0</th>\n",
       "      <td>R1</td>\n",
       "      <td>NUCLEAR</td>\n",
       "      <td>2020</td>\n",
       "      <td>50</td>\n",
       "    </tr>\n",
       "    <tr>\n",
       "      <th>1</th>\n",
       "      <td>R1</td>\n",
       "      <td>NUCLEAR</td>\n",
       "      <td>2021</td>\n",
       "      <td>50</td>\n",
       "    </tr>\n",
       "    <tr>\n",
       "      <th>2</th>\n",
       "      <td>R1</td>\n",
       "      <td>NUCLEAR</td>\n",
       "      <td>2022</td>\n",
       "      <td>50</td>\n",
       "    </tr>\n",
       "    <tr>\n",
       "      <th>3</th>\n",
       "      <td>R1</td>\n",
       "      <td>NUCLEAR</td>\n",
       "      <td>2023</td>\n",
       "      <td>50</td>\n",
       "    </tr>\n",
       "    <tr>\n",
       "      <th>4</th>\n",
       "      <td>R1</td>\n",
       "      <td>NUCLEAR</td>\n",
       "      <td>2024</td>\n",
       "      <td>50</td>\n",
       "    </tr>\n",
       "  </tbody>\n",
       "</table>\n",
       "</div>"
      ],
      "text/plain": [
       "  REGION TECHNOLOGY  YEAR  VALUE\n",
       "0     R1    NUCLEAR  2020     50\n",
       "1     R1    NUCLEAR  2021     50\n",
       "2     R1    NUCLEAR  2022     50\n",
       "3     R1    NUCLEAR  2023     50\n",
       "4     R1    NUCLEAR  2024     50"
      ]
     },
     "execution_count": 18,
     "metadata": {},
     "output_type": "execute_result"
    }
   ],
   "source": [
    "fixed = 50 # M$ / GW\n",
    "fixed_indices = {\n",
    "    \"REGION\": [regions],\n",
    "    \"TECHNOLOGY\": [\"NUCLEAR\"],\n",
    "    \"YEAR\": [years]\n",
    "}\n",
    "make_param(fixed_indices, fixed, str(Path(data_dir, \"FixedCost.csv\"))).head()"
   ]
  },
  {
   "cell_type": "markdown",
   "metadata": {
    "slideshow": {
     "slide_type": "skip"
    }
   },
   "source": [
    "#### Add Variable Costs"
   ]
  },
  {
   "cell_type": "code",
   "execution_count": 19,
   "metadata": {},
   "outputs": [
    {
     "data": {
      "text/html": [
       "<div>\n",
       "<style scoped>\n",
       "    .dataframe tbody tr th:only-of-type {\n",
       "        vertical-align: middle;\n",
       "    }\n",
       "\n",
       "    .dataframe tbody tr th {\n",
       "        vertical-align: top;\n",
       "    }\n",
       "\n",
       "    .dataframe thead th {\n",
       "        text-align: right;\n",
       "    }\n",
       "</style>\n",
       "<table border=\"1\" class=\"dataframe\">\n",
       "  <thead>\n",
       "    <tr style=\"text-align: right;\">\n",
       "      <th></th>\n",
       "      <th>REGION</th>\n",
       "      <th>TECHNOLOGY</th>\n",
       "      <th>MODE_OF_OPERATION</th>\n",
       "      <th>YEAR</th>\n",
       "      <th>VALUE</th>\n",
       "    </tr>\n",
       "  </thead>\n",
       "  <tbody>\n",
       "    <tr>\n",
       "      <th>0</th>\n",
       "      <td>R1</td>\n",
       "      <td>MINE_URANIUM</td>\n",
       "      <td>1</td>\n",
       "      <td>2020</td>\n",
       "      <td>2.5</td>\n",
       "    </tr>\n",
       "    <tr>\n",
       "      <th>1</th>\n",
       "      <td>R1</td>\n",
       "      <td>MINE_URANIUM</td>\n",
       "      <td>1</td>\n",
       "      <td>2021</td>\n",
       "      <td>2.5</td>\n",
       "    </tr>\n",
       "    <tr>\n",
       "      <th>2</th>\n",
       "      <td>R1</td>\n",
       "      <td>MINE_URANIUM</td>\n",
       "      <td>1</td>\n",
       "      <td>2022</td>\n",
       "      <td>2.5</td>\n",
       "    </tr>\n",
       "    <tr>\n",
       "      <th>3</th>\n",
       "      <td>R1</td>\n",
       "      <td>MINE_URANIUM</td>\n",
       "      <td>1</td>\n",
       "      <td>2023</td>\n",
       "      <td>2.5</td>\n",
       "    </tr>\n",
       "    <tr>\n",
       "      <th>4</th>\n",
       "      <td>R1</td>\n",
       "      <td>MINE_URANIUM</td>\n",
       "      <td>1</td>\n",
       "      <td>2024</td>\n",
       "      <td>2.5</td>\n",
       "    </tr>\n",
       "  </tbody>\n",
       "</table>\n",
       "</div>"
      ],
      "text/plain": [
       "  REGION    TECHNOLOGY MODE_OF_OPERATION  YEAR  VALUE\n",
       "0     R1  MINE_URANIUM                 1  2020    2.5\n",
       "1     R1  MINE_URANIUM                 1  2021    2.5\n",
       "2     R1  MINE_URANIUM                 1  2022    2.5\n",
       "3     R1  MINE_URANIUM                 1  2023    2.5\n",
       "4     R1  MINE_URANIUM                 1  2024    2.5"
      ]
     },
     "execution_count": 19,
     "metadata": {},
     "output_type": "execute_result"
    }
   ],
   "source": [
    "variable = 2.5 # M$ / PJ\n",
    "variable_indices = {\n",
    "    \"REGION\": [regions],\n",
    "    \"TECHNOLOGY\": [\"MINE_URANIUM\"],\n",
    "    \"MODE_OF_OPERATION\": [modes],\n",
    "    \"YEAR\": [years]\n",
    "}\n",
    "make_param(variable_indices, variable, str(Path(data_dir, \"VariableCost.csv\"))).head()"
   ]
  },
  {
   "cell_type": "markdown",
   "metadata": {
    "slideshow": {
     "slide_type": "skip"
    }
   },
   "source": [
    "#### Add Nuclear Power Plant Efficiency "
   ]
  },
  {
   "cell_type": "code",
   "execution_count": 20,
   "metadata": {},
   "outputs": [
    {
     "data": {
      "text/html": [
       "<div>\n",
       "<style scoped>\n",
       "    .dataframe tbody tr th:only-of-type {\n",
       "        vertical-align: middle;\n",
       "    }\n",
       "\n",
       "    .dataframe tbody tr th {\n",
       "        vertical-align: top;\n",
       "    }\n",
       "\n",
       "    .dataframe thead th {\n",
       "        text-align: right;\n",
       "    }\n",
       "</style>\n",
       "<table border=\"1\" class=\"dataframe\">\n",
       "  <thead>\n",
       "    <tr style=\"text-align: right;\">\n",
       "      <th></th>\n",
       "      <th>REGION</th>\n",
       "      <th>TECHNOLOGY</th>\n",
       "      <th>FUEL</th>\n",
       "      <th>MODE_OF_OPERATION</th>\n",
       "      <th>YEAR</th>\n",
       "      <th>VALUE</th>\n",
       "    </tr>\n",
       "  </thead>\n",
       "  <tbody>\n",
       "    <tr>\n",
       "      <th>0</th>\n",
       "      <td>R1</td>\n",
       "      <td>NUCLEAR</td>\n",
       "      <td>URANIUM</td>\n",
       "      <td>1</td>\n",
       "      <td>2020</td>\n",
       "      <td>1.25</td>\n",
       "    </tr>\n",
       "    <tr>\n",
       "      <th>1</th>\n",
       "      <td>R1</td>\n",
       "      <td>NUCLEAR</td>\n",
       "      <td>URANIUM</td>\n",
       "      <td>1</td>\n",
       "      <td>2021</td>\n",
       "      <td>1.25</td>\n",
       "    </tr>\n",
       "    <tr>\n",
       "      <th>2</th>\n",
       "      <td>R1</td>\n",
       "      <td>NUCLEAR</td>\n",
       "      <td>URANIUM</td>\n",
       "      <td>1</td>\n",
       "      <td>2022</td>\n",
       "      <td>1.25</td>\n",
       "    </tr>\n",
       "    <tr>\n",
       "      <th>3</th>\n",
       "      <td>R1</td>\n",
       "      <td>NUCLEAR</td>\n",
       "      <td>URANIUM</td>\n",
       "      <td>1</td>\n",
       "      <td>2023</td>\n",
       "      <td>1.25</td>\n",
       "    </tr>\n",
       "    <tr>\n",
       "      <th>4</th>\n",
       "      <td>R1</td>\n",
       "      <td>NUCLEAR</td>\n",
       "      <td>URANIUM</td>\n",
       "      <td>1</td>\n",
       "      <td>2024</td>\n",
       "      <td>1.25</td>\n",
       "    </tr>\n",
       "  </tbody>\n",
       "</table>\n",
       "</div>"
      ],
      "text/plain": [
       "  REGION TECHNOLOGY     FUEL MODE_OF_OPERATION  YEAR  VALUE\n",
       "0     R1    NUCLEAR  URANIUM                 1  2020   1.25\n",
       "1     R1    NUCLEAR  URANIUM                 1  2021   1.25\n",
       "2     R1    NUCLEAR  URANIUM                 1  2022   1.25\n",
       "3     R1    NUCLEAR  URANIUM                 1  2023   1.25\n",
       "4     R1    NUCLEAR  URANIUM                 1  2024   1.25"
      ]
     },
     "execution_count": 20,
     "metadata": {},
     "output_type": "execute_result"
    }
   ],
   "source": [
    "eff = 1.25 # 80 %\n",
    "eff_indices = {\n",
    "    \"REGION\": [regions],\n",
    "    \"TECHNOLOGY\": [\"NUCLEAR\"],\n",
    "    \"FUEL\": [\"URANIUM\"],\n",
    "    \"MODE_OF_OPERATION\": [modes],\n",
    "    \"YEAR\": [years]\n",
    "}\n",
    "make_param(eff_indices, eff, str(Path(data_dir, \"InputActivityRatio.csv\"))).head()"
   ]
  },
  {
   "cell_type": "markdown",
   "metadata": {
    "slideshow": {
     "slide_type": "skip"
    }
   },
   "source": [
    "#### Add Demand"
   ]
  },
  {
   "cell_type": "code",
   "execution_count": 21,
   "metadata": {
    "slideshow": {
     "slide_type": "skip"
    }
   },
   "outputs": [],
   "source": [
    "def add_demand(start_value, yearly_increase, years, region, fuel, save):\n",
    "    demand_data = []\n",
    "    for year in years:\n",
    "        demand_data.append([region, fuel, year, start_value*(1+yearly_increase)**(year-years[0])])\n",
    "    df = pd.DataFrame(demand_data, columns=['REGION','FUEL','YEAR','VALUE'])\n",
    "    df.to_csv(Path(data_dir, \"SpecifiedAnnualDemand.csv\"), index=False)\n",
    "    return df"
   ]
  },
  {
   "cell_type": "code",
   "execution_count": 51,
   "metadata": {
    "slideshow": {
     "slide_type": "skip"
    }
   },
   "outputs": [
    {
     "data": {
      "text/html": [
       "<div>\n",
       "<style scoped>\n",
       "    .dataframe tbody tr th:only-of-type {\n",
       "        vertical-align: middle;\n",
       "    }\n",
       "\n",
       "    .dataframe tbody tr th {\n",
       "        vertical-align: top;\n",
       "    }\n",
       "\n",
       "    .dataframe thead th {\n",
       "        text-align: right;\n",
       "    }\n",
       "</style>\n",
       "<table border=\"1\" class=\"dataframe\">\n",
       "  <thead>\n",
       "    <tr style=\"text-align: right;\">\n",
       "      <th></th>\n",
       "      <th>REGION</th>\n",
       "      <th>FUEL</th>\n",
       "      <th>YEAR</th>\n",
       "      <th>VALUE</th>\n",
       "    </tr>\n",
       "  </thead>\n",
       "  <tbody>\n",
       "    <tr>\n",
       "      <th>0</th>\n",
       "      <td>R1</td>\n",
       "      <td>ELECTRICITY</td>\n",
       "      <td>2020</td>\n",
       "      <td>1000.00000</td>\n",
       "    </tr>\n",
       "    <tr>\n",
       "      <th>1</th>\n",
       "      <td>R1</td>\n",
       "      <td>ELECTRICITY</td>\n",
       "      <td>2021</td>\n",
       "      <td>1050.00000</td>\n",
       "    </tr>\n",
       "    <tr>\n",
       "      <th>2</th>\n",
       "      <td>R1</td>\n",
       "      <td>ELECTRICITY</td>\n",
       "      <td>2022</td>\n",
       "      <td>1102.50000</td>\n",
       "    </tr>\n",
       "    <tr>\n",
       "      <th>3</th>\n",
       "      <td>R1</td>\n",
       "      <td>ELECTRICITY</td>\n",
       "      <td>2023</td>\n",
       "      <td>1157.62500</td>\n",
       "    </tr>\n",
       "    <tr>\n",
       "      <th>4</th>\n",
       "      <td>R1</td>\n",
       "      <td>ELECTRICITY</td>\n",
       "      <td>2024</td>\n",
       "      <td>1215.50625</td>\n",
       "    </tr>\n",
       "  </tbody>\n",
       "</table>\n",
       "</div>"
      ],
      "text/plain": [
       "  REGION         FUEL  YEAR       VALUE\n",
       "0     R1  ELECTRICITY  2020  1000.00000\n",
       "1     R1  ELECTRICITY  2021  1050.00000\n",
       "2     R1  ELECTRICITY  2022  1102.50000\n",
       "3     R1  ELECTRICITY  2023  1157.62500\n",
       "4     R1  ELECTRICITY  2024  1215.50625"
      ]
     },
     "execution_count": 51,
     "metadata": {},
     "output_type": "execute_result"
    }
   ],
   "source": [
    "start_value = 1000 # PJ\n",
    "yearly_increase = 0.05 # %\n",
    "add_demand(start_value, yearly_increase, years, regions[0], \"ELECTRICITY\", data_dir).head()"
   ]
  },
  {
   "cell_type": "markdown",
   "metadata": {
    "slideshow": {
     "slide_type": "skip"
    }
   },
   "source": [
    "### Add Operational Life"
   ]
  },
  {
   "cell_type": "code",
   "execution_count": 23,
   "metadata": {},
   "outputs": [
    {
     "data": {
      "text/html": [
       "<div>\n",
       "<style scoped>\n",
       "    .dataframe tbody tr th:only-of-type {\n",
       "        vertical-align: middle;\n",
       "    }\n",
       "\n",
       "    .dataframe tbody tr th {\n",
       "        vertical-align: top;\n",
       "    }\n",
       "\n",
       "    .dataframe thead th {\n",
       "        text-align: right;\n",
       "    }\n",
       "</style>\n",
       "<table border=\"1\" class=\"dataframe\">\n",
       "  <thead>\n",
       "    <tr style=\"text-align: right;\">\n",
       "      <th></th>\n",
       "      <th>REGION</th>\n",
       "      <th>TECHNOLOGY</th>\n",
       "      <th>VALUE</th>\n",
       "    </tr>\n",
       "  </thead>\n",
       "  <tbody>\n",
       "    <tr>\n",
       "      <th>0</th>\n",
       "      <td>R1</td>\n",
       "      <td>NUCLEAR</td>\n",
       "      <td>50</td>\n",
       "    </tr>\n",
       "  </tbody>\n",
       "</table>\n",
       "</div>"
      ],
      "text/plain": [
       "  REGION TECHNOLOGY  VALUE\n",
       "0     R1    NUCLEAR     50"
      ]
     },
     "execution_count": 23,
     "metadata": {},
     "output_type": "execute_result"
    }
   ],
   "source": [
    "op_life = 50 # years\n",
    "op_life_indices = {\n",
    "    \"REGION\": [regions],\n",
    "    \"TECHNOLOGY\": [\"NUCLEAR\"],\n",
    "}\n",
    "make_param(op_life_indices, op_life, str(Path(data_dir, \"OperationalLife.csv\"))).head()"
   ]
  },
  {
   "cell_type": "markdown",
   "metadata": {},
   "source": [
    "#### Add remaining parameters for model setup "
   ]
  },
  {
   "cell_type": "code",
   "execution_count": 24,
   "metadata": {},
   "outputs": [],
   "source": [
    "oar = 1\n",
    "oar_indices = {\n",
    "    \"REGION\": [regions],\n",
    "    \"TECHNOLOGY\": [\"NUCLEAR\"],\n",
    "    \"FUEL\": [\"ELECTRICITY\"],\n",
    "    \"MODE_OF_OPERATION\": [modes],\n",
    "    \"YEAR\": [years]\n",
    "}\n",
    "df_1 = make_param(oar_indices, oar)\n",
    "\n",
    "oar_indices = {\n",
    "    \"REGION\": [regions],\n",
    "    \"TECHNOLOGY\": [\"MINE_URANIUM\"],\n",
    "    \"FUEL\": [\"URANIUM\"],\n",
    "    \"MODE_OF_OPERATION\": [modes],\n",
    "    \"YEAR\": [years]\n",
    "}\n",
    "df_2 = make_param(oar_indices, oar)\n",
    "\n",
    "df = pd.concat([df_1, df_2])\n",
    "df.to_csv(Path(data_dir, \"OutputActivityRatio.csv\"), index=False)"
   ]
  },
  {
   "cell_type": "code",
   "execution_count": 27,
   "metadata": {},
   "outputs": [
    {
     "data": {
      "text/html": [
       "<div>\n",
       "<style scoped>\n",
       "    .dataframe tbody tr th:only-of-type {\n",
       "        vertical-align: middle;\n",
       "    }\n",
       "\n",
       "    .dataframe tbody tr th {\n",
       "        vertical-align: top;\n",
       "    }\n",
       "\n",
       "    .dataframe thead th {\n",
       "        text-align: right;\n",
       "    }\n",
       "</style>\n",
       "<table border=\"1\" class=\"dataframe\">\n",
       "  <thead>\n",
       "    <tr style=\"text-align: right;\">\n",
       "      <th></th>\n",
       "      <th>REGION</th>\n",
       "      <th>FUEL</th>\n",
       "      <th>TIMESLICE</th>\n",
       "      <th>YEAR</th>\n",
       "      <th>VALUE</th>\n",
       "    </tr>\n",
       "  </thead>\n",
       "  <tbody>\n",
       "    <tr>\n",
       "      <th>0</th>\n",
       "      <td>R1</td>\n",
       "      <td>ELECTRICITY</td>\n",
       "      <td>S1D1</td>\n",
       "      <td>2020</td>\n",
       "      <td>0.125</td>\n",
       "    </tr>\n",
       "    <tr>\n",
       "      <th>1</th>\n",
       "      <td>R1</td>\n",
       "      <td>ELECTRICITY</td>\n",
       "      <td>S1D1</td>\n",
       "      <td>2021</td>\n",
       "      <td>0.125</td>\n",
       "    </tr>\n",
       "    <tr>\n",
       "      <th>2</th>\n",
       "      <td>R1</td>\n",
       "      <td>ELECTRICITY</td>\n",
       "      <td>S1D1</td>\n",
       "      <td>2022</td>\n",
       "      <td>0.125</td>\n",
       "    </tr>\n",
       "    <tr>\n",
       "      <th>3</th>\n",
       "      <td>R1</td>\n",
       "      <td>ELECTRICITY</td>\n",
       "      <td>S1D1</td>\n",
       "      <td>2023</td>\n",
       "      <td>0.125</td>\n",
       "    </tr>\n",
       "    <tr>\n",
       "      <th>4</th>\n",
       "      <td>R1</td>\n",
       "      <td>ELECTRICITY</td>\n",
       "      <td>S1D1</td>\n",
       "      <td>2024</td>\n",
       "      <td>0.125</td>\n",
       "    </tr>\n",
       "  </tbody>\n",
       "</table>\n",
       "</div>"
      ],
      "text/plain": [
       "  REGION         FUEL TIMESLICE  YEAR  VALUE\n",
       "0     R1  ELECTRICITY      S1D1  2020  0.125\n",
       "1     R1  ELECTRICITY      S1D1  2021  0.125\n",
       "2     R1  ELECTRICITY      S1D1  2022  0.125\n",
       "3     R1  ELECTRICITY      S1D1  2023  0.125\n",
       "4     R1  ELECTRICITY      S1D1  2024  0.125"
      ]
     },
     "execution_count": 27,
     "metadata": {},
     "output_type": "execute_result"
    }
   ],
   "source": [
    "demand_profile = 0.125\n",
    "demand_profile_indices = {\n",
    "    \"REGION\": [regions],\n",
    "    \"FUEL\": [\"ELECTRICITY\"],\n",
    "    \"TIMESLICE\": [ts],\n",
    "    \"YEAR\": [years]\n",
    "}\n",
    "make_param(demand_profile_indices, demand_profile, str(Path(data_dir, \"SpecifiedDemandProfile.csv\"))).head()"
   ]
  },
  {
   "cell_type": "code",
   "execution_count": 28,
   "metadata": {},
   "outputs": [
    {
     "data": {
      "text/html": [
       "<div>\n",
       "<style scoped>\n",
       "    .dataframe tbody tr th:only-of-type {\n",
       "        vertical-align: middle;\n",
       "    }\n",
       "\n",
       "    .dataframe tbody tr th {\n",
       "        vertical-align: top;\n",
       "    }\n",
       "\n",
       "    .dataframe thead th {\n",
       "        text-align: right;\n",
       "    }\n",
       "</style>\n",
       "<table border=\"1\" class=\"dataframe\">\n",
       "  <thead>\n",
       "    <tr style=\"text-align: right;\">\n",
       "      <th></th>\n",
       "      <th>REGION</th>\n",
       "      <th>TECHNOLOGY</th>\n",
       "      <th>VALUE</th>\n",
       "    </tr>\n",
       "  </thead>\n",
       "  <tbody>\n",
       "    <tr>\n",
       "      <th>0</th>\n",
       "      <td>R1</td>\n",
       "      <td>MINE_URANIUM</td>\n",
       "      <td>31.536</td>\n",
       "    </tr>\n",
       "    <tr>\n",
       "      <th>1</th>\n",
       "      <td>R1</td>\n",
       "      <td>NUCLEAR</td>\n",
       "      <td>31.536</td>\n",
       "    </tr>\n",
       "  </tbody>\n",
       "</table>\n",
       "</div>"
      ],
      "text/plain": [
       "  REGION    TECHNOLOGY   VALUE\n",
       "0     R1  MINE_URANIUM  31.536\n",
       "1     R1       NUCLEAR  31.536"
      ]
     },
     "execution_count": 28,
     "metadata": {},
     "output_type": "execute_result"
    }
   ],
   "source": [
    "cap_to_activity = 31.536\n",
    "cap_to_activity_indices = {\n",
    "    \"REGION\": [regions],\n",
    "    \"TECHNOLOGY\": [techs],\n",
    "}\n",
    "make_param(cap_to_activity_indices, cap_to_activity, str(Path(data_dir, \"CapacityToActivityUnit.csv\")))"
   ]
  },
  {
   "cell_type": "markdown",
   "metadata": {},
   "source": [
    "## One-at-a-time Sensitivity Analysis"
   ]
  },
  {
   "cell_type": "markdown",
   "metadata": {},
   "source": [
    "Run the model with the baseline input parameters and get a reference objective value"
   ]
  },
  {
   "cell_type": "code",
   "execution_count": 29,
   "metadata": {
    "slideshow": {
     "slide_type": "skip"
    }
   },
   "outputs": [],
   "source": [
    "def run_model(example_dir, path_to_csv, path_to_config, path_to_model, result_file):\n",
    "    \n",
    "    subprocess.check_output(\n",
    "        [\n",
    "            \"otoole\", \"convert\", \"csv\", \"datafile\", \n",
    "            Path(path_to_csv), Path(example_dir, \"data.txt\"), Path(path_to_config)\n",
    "        ])\n",
    "\n",
    "    subprocess.check_output(\n",
    "        [\n",
    "            \"glpsol\", \n",
    "            \"-m\", Path(path_to_model), \n",
    "            \"-d\", Path(example_dir, \"data.txt\"), \n",
    "            \"--wlp\", Path(example_dir, \"model.lp\"), \"--check\"\n",
    "        ])\n",
    "    subprocess.check_output(\n",
    "        [\n",
    "            \"cbc\", Path(example_dir, \"model.lp\"), \"solve\", \n",
    "            \"-solu\", Path(example_dir, result_file)\n",
    "        ])\n",
    "\n",
    "def get_objective_value(result_files):\n",
    "    for result_file in result_files:\n",
    "        print(f\"{result_file.name}\")\n",
    "        os.system(f\"head -1 {str(Path(example_dir, result_file))}\")"
   ]
  },
  {
   "cell_type": "code",
   "execution_count": 30,
   "metadata": {
    "slideshow": {
     "slide_type": "skip"
    }
   },
   "outputs": [
    {
     "name": "stdout",
     "output_type": "stream",
     "text": [
      "base.sol\n",
      "Optimal - objective value 571911.78404130\n"
     ]
    }
   ],
   "source": [
    "run_model(example_dir, data_dir, str(Path(example_dir, \"config.yaml\")), str(Path(example_dir, \"osemosys.txt\")), \"base.sol\")\n",
    "get_objective_value([Path(\"base.sol\")])"
   ]
  },
  {
   "cell_type": "markdown",
   "metadata": {
    "slideshow": {
     "slide_type": "subslide"
    }
   },
   "source": [
    "## Model Results\n",
    "\n",
    "Solving the model for total discounted costs produces an objective value  of `$572,721,000,000`. In local sensitivity analysis, we select a single parameter to alter and rerun the model. This will tell us the effect that single parameter has on the results around the optimal location. "
   ]
  },
  {
   "cell_type": "markdown",
   "metadata": {
    "slideshow": {
     "slide_type": "subslide"
    }
   },
   "source": [
    "### Parameter Changes\n",
    "\n",
    "We will change both the **capital costs** and **variable costs** of the nuclear power plant to see how sensitive the results are to these parameters. We will do 5 additional runs for each parameter, resulting in 10 total runs. This summary of model runs and results are given below.  \n",
    "\n",
    " Run      | Capital Costs (M\\$/GW) | Variable Costs (M\\$/PJ) | Objective Cost (M$)\n",
    ":---|---:|---:|---:\n",
    " Original | 4000                  | 2.5                   | 571911              \n",
    " 1        | 2500                  | 2.5                   | 445361              \n",
    " 2        | 3000                  | 2.5                   | 487545              \n",
    " 3        | 3500                  | 2.5                   | 529728              \n",
    " 4        | 4500                  | 2.5                   | 614095              \n",
    " 5        | 5000                  | 2.5                   | 656278              \n",
    " 6        | 4000                  | 1.5                   | 509698              \n",
    " 7        | 4000                  | 2.0                   | 540804              \n",
    " 8        | 4000                  | 3.0                   | 603018              \n",
    " 9        | 4000                  | 3.5                   | 634125              \n",
    " 10       | 4000                  | 4.0                   | 665232              "
   ]
  },
  {
   "cell_type": "code",
   "execution_count": 31,
   "metadata": {
    "slideshow": {
     "slide_type": "skip"
    }
   },
   "outputs": [
    {
     "name": "stdout",
     "output_type": "stream",
     "text": [
      "capex_2500.txt\n",
      "Optimal - objective value 445361.88647474\n",
      "capex_3000.txt\n",
      "Optimal - objective value 487545.18566359\n",
      "capex_3500.txt\n",
      "Optimal - objective value 529728.48485245\n",
      "capex_4500.txt\n",
      "Optimal - objective value 614095.08323016\n",
      "capex_5000.txt\n",
      "Optimal - objective value 656278.38241901\n",
      "var_cost_1.5.txt\n",
      "Optimal - objective value 509698.13682009\n",
      "var_cost_2.0.txt\n",
      "Optimal - objective value 540804.96043070\n",
      "var_cost_3.0.txt\n",
      "Optimal - objective value 603018.60765191\n",
      "var_cost_3.5.txt\n",
      "Optimal - objective value 634125.43126251\n",
      "var_cost_4.0.txt\n",
      "Optimal - objective value 665232.25487312\n"
     ]
    }
   ],
   "source": [
    "result_files = []\n",
    "\n",
    "# Iterate over capital cost\n",
    "capital_costs = [2500, 3000, 3500, 4500, 5000]\n",
    "for capital_cost in capital_costs:\n",
    "    make_param(capex_indices, capital_cost, str(Path(data_dir, \"CapitalCost.csv\")))\n",
    "    result_file = f\"capex_{capital_cost}.txt\"\n",
    "    result_files.append(Path(result_file))\n",
    "    run_model(example_dir, data_dir, str(Path(example_dir, \"config.yaml\")), str(Path(example_dir, \"osemosys_fast.txt\")), result_file)\n",
    "\n",
    "# resest to original capital cost\n",
    "make_param(capex_indices, 4000, str(Path(data_dir, \"CapitalCost.csv\")))\n",
    "\n",
    "# Iterate over variable cost\n",
    "var_costs = [1.5, 2.0, 3.0, 3.5, 4.0]\n",
    "for var_cost in var_costs:\n",
    "    make_param(variable_indices, var_cost, str(Path(data_dir, \"VariableCost.csv\")))\n",
    "    result_file = f\"var_cost_{var_cost}.txt\"\n",
    "    result_files.append(Path(result_file))\n",
    "    run_model(example_dir, data_dir, str(Path(example_dir, \"config.yaml\")), str(Path(example_dir, \"osemosys_fast.txt\")), result_file)\n",
    "\n",
    "# reset to original variable cost\n",
    "make_param(variable_indices, 2.5, str(Path(data_dir, \"VariableCost.csv\")))\n",
    "\n",
    "# extract objective costs\n",
    "get_objective_value(result_files)"
   ]
  },
  {
   "cell_type": "markdown",
   "metadata": {
    "slideshow": {
     "slide_type": "skip"
    }
   },
   "source": [
    "Create simple plots to see how the costs change with parameters"
   ]
  },
  {
   "cell_type": "code",
   "execution_count": 32,
   "metadata": {
    "slideshow": {
     "slide_type": "skip"
    }
   },
   "outputs": [],
   "source": [
    "def plot_LSA(df_capex, df_var):\n",
    "    _, axs = plt.subplots(1,2, figsize=(14,5), sharey=True)\n",
    "    df_capex.plot(ax=axs[0], marker='o', title='Effects of Capital Cost', xlabel='Capital Cost (M$/GW)', ylabel='Objective Cost (M$)')\n",
    "    df_var.plot(ax=axs[1], marker='o', title='Effects of Variable Cost', xlabel='Variable Cost (M$/PJ)', ylabel='Objective Cost (M$)')"
   ]
  },
  {
   "cell_type": "code",
   "execution_count": 33,
   "metadata": {},
   "outputs": [],
   "source": [
    "df_capex = pd.DataFrame([\n",
    "    [2500, 445361],\n",
    "    [3000, 487545],\n",
    "    [3500, 529728],\n",
    "    [4000, 571911],\n",
    "    [4500, 614095],\n",
    "    [5000, 656278],\n",
    "], columns=['Capex', 'Objective_Cost']).set_index('Capex')\n",
    "\n",
    "df_var = pd.DataFrame([\n",
    "    [1.5, 509698],\n",
    "    [2.0, 540804],\n",
    "    [2.5, 571911],\n",
    "    [3.0, 603018],\n",
    "    [3.5, 634125],\n",
    "    [4.0, 665232],\n",
    "], columns=['Var_Cost', 'Objective_Cost']).set_index('Var_Cost')"
   ]
  },
  {
   "cell_type": "code",
   "execution_count": 34,
   "metadata": {
    "slideshow": {
     "slide_type": "subslide"
    }
   },
   "outputs": [
    {
     "data": {
      "image/png": "[encoded data removed]",
      "text/plain": [
       "<Figure size 1400x500 with 2 Axes>"
      ]
     },
     "metadata": {},
     "output_type": "display_data"
    }
   ],
   "source": [
    "plot_LSA(df_capex, df_var)"
   ]
  },
  {
   "cell_type": "markdown",
   "metadata": {
    "slideshow": {
     "slide_type": "subslide"
    }
   },
   "source": [
    "## Disadvantages of local sensitivity analysis\n",
    "\n",
    "A local sensitivity analysis has several weaknesses.  These include the following.\n",
    "\n",
    "### Limited insights into the influence of parameters\n",
    "\n",
    "The steeper gradiant of the capital cost plot shows this is the more influential parameter over our range of values. As we add more parameters and build more complex models, viewing the gradient will become impractical. \n",
    "\n",
    "### Missing interaction effects\n",
    "\n",
    "This example also shows a relatively linear response between our variables and value of the objective function. While non-linear effects may be identified by this method, interaction effects would not be. As discussed later, variable costs (which include fuel cost) and the efficiency of the power plant will interact. We do not see this interaction through local sensitivity analysis.\n",
    "\n",
    "### Computational expense\n",
    "\n",
    "This approach is inefficient as we need to run one model run per parameter per step."
   ]
  },
  {
   "cell_type": "markdown",
   "metadata": {
    "slideshow": {
     "slide_type": "slide"
    }
   },
   "source": [
    "# Example Two \n",
    "\n",
    "We will repeat example one, except employ **GLOBAL** sensitivity analysis using the Method of Morris."
   ]
  },
  {
   "cell_type": "markdown",
   "metadata": {
    "slideshow": {
     "slide_type": "subslide"
    }
   },
   "source": [
    "## Reference Energy Systen\n",
    "\n",
    "Our RES and included parameters will remain the same as example 1. \n",
    "\n",
    "![RES](./examples/figures/res.jpg)"
   ]
  },
  {
   "cell_type": "markdown",
   "metadata": {
    "slideshow": {
     "slide_type": "subslide"
    }
   },
   "source": [
    "## The Workflow\n",
    "\n",
    "Performing global sensitivity analysis requires running the model many times and careful handling of the results. Therefore, it is beneficial to set up an automated workflow to reduce data handling errors. To execute the workflow, three main steps are required. \n",
    "\n",
    "1. Modify the configuration file\n",
    "2. Run the workflow \n",
    "3. Interpret the results\n",
    "\n",
    "A high-level graphical overview of the the workflow is given below. "
   ]
  },
  {
   "cell_type": "markdown",
   "metadata": {
    "slideshow": {
     "slide_type": "subslide"
    }
   },
   "source": [
    "\n",
    "![workflow](./examples/figures/workflow.jpg)\n"
   ]
  },
  {
   "cell_type": "markdown",
   "metadata": {
    "slideshow": {
     "slide_type": "subslide"
    }
   },
   "source": [
    "## The Configuration File\n",
    "\n",
    "The configuration file contains parameters that define how the sensitivity analysis will be conducted. For each factor we want to test, we can test its sensitivity independently of time. Moreover, if the parameter is defined over time (such as a yearly changing demand), we can also test the sensitivity dependent on time. "
   ]
  },
  {
   "cell_type": "markdown",
   "metadata": {
    "slideshow": {
     "slide_type": "subslide"
    }
   },
   "source": [
    "### Time Independent Factors \n",
    "\n",
    "The figure below highlights the two different options for time-independent factors that can be configured in the workflow. The red lines prepresent the user-entered bounds, while the green lines represent the modelled values. \n",
    "\n",
    "![gsa-options](./examples/figures/gsa_options_fixed.jpg)\n"
   ]
  },
  {
   "cell_type": "markdown",
   "metadata": {
    "slideshow": {
     "slide_type": "notes"
    }
   },
   "source": [
    "### Option One\n",
    "\n",
    "We specify a fixed start point. This results in **no sensitivity analysis** being performed, because we are not varying the parameter over different model runs. \n",
    "\n",
    "### Option Two\n",
    "\n",
    "We specify a moving start point, represented by the red bars. This can be beneficial in situations where we know the parameter value will not change throughout the model run, but want to test the sensitivity of this fixed value. For example, the operational life of a powerplant. "
   ]
  },
  {
   "cell_type": "markdown",
   "metadata": {
    "slideshow": {
     "slide_type": "subslide"
    }
   },
   "source": [
    "### Time Dependent Factors \n",
    "\n",
    "The figure below highlights three different options for time-dependent factors that can be configured in the workflow. The red lines represent the user-entered bounds, while the green lines represent the interpolated values. \n",
    "\n",
    "![gsa-options](./examples/figures/gsa_options_interpolate.jpg)\n"
   ]
  },
  {
   "cell_type": "markdown",
   "metadata": {
    "slideshow": {
     "slide_type": "notes"
    }
   },
   "source": [
    "### Option One\n",
    "\n",
    "We specify fixed start and end points. This results in **no sensitivity analysis** being performed, because we are not varying the parameter over different model runs. \n",
    "\n",
    "### Option Two\n",
    "\n",
    "We specify a fixed start point, and a moving end point. This can be beneficial in scenario where we know the starting value, but are uncertain about how the value will change in time. For example, the annual demand of our start year may be a known value, but we are uncertain how this will progress throughout the model horizon.\n",
    "Note that we currently interpolate linearly between the two points but this could include different shapes in the future.\n",
    "\n",
    "### Option Three\n",
    "\n",
    "We specify moving start and end points. This is appropriate to test the sensitivity of values when uncertain of both current and future values. For example, fuel costs are always changing, and testing the sensitivity of these changes on your model may be important."
   ]
  },
  {
   "cell_type": "markdown",
   "metadata": {
    "slideshow": {
     "slide_type": "subslide"
    }
   },
   "source": [
    "### Modify the Configuration File\n",
    "\n",
    "Navigate to [`examples/2/parameters.csv`](./examples/2/parameters.csv) file and add sensitivity parameters for the `CapitalCost`, `VariableCost`, and `InputActivityRatio` (defined as 1/efficiency). The formatted parameter csv should look similar to the following. The `interpolation_index` value is either `fixed` or `interpolate` for time independent and time dependent parameters respectively. \n",
    "\n",
    "Feel free to user your own values for the min/max values!\n",
    "\n",
    "|name |group|indexes|min_value_base_year|max_value_base_year|min_value_end_year|max_value_end_year|dist|interpolation_index|action|\n",
    "|-----|-----|-------|-------------------|-------------------|------------------|------------------|----|-------------------|------|\n",
    "|CapitalCost  |capital  |\"R1,NUCLEAR\"        |4000 |5000 |2000 |3000 |\"unif\" |\"YEAR\" |\"interpolate\" |\n",
    "|VariableCost |variable |\"R1,MINE_URANIUM,1\" |3.5  |4.0  |1.5  |1.75 |\"unif\" |\"YEAR\" |\"interpolate\" |\n",
    "|InputActivityRatio | IAR |\"R1,NUCLEAR,URANIUM,1\" |1.3 | 1.5 | 1.05 | 1.2 | \"unif\" | \"YEAR\" | \"interpolate\" |"
   ]
  },
  {
   "cell_type": "markdown",
   "metadata": {
    "slideshow": {
     "slide_type": "subslide"
    }
   },
   "source": [
    "### Run the Workflow\n",
    "\n",
    "Once we have defined our sensitivity parameters, we can run the workflow"
   ]
  },
  {
   "cell_type": "code",
   "execution_count": 35,
   "metadata": {},
   "outputs": [],
   "source": [
    "!cp -r ./examples/1/data ./examples/2/data"
   ]
  },
  {
   "cell_type": "code",
   "execution_count": 45,
   "metadata": {
    "slideshow": {
     "slide_type": "fragment"
    }
   },
   "outputs": [
    {
     "name": "stdout",
     "output_type": "stream",
     "text": [
      "\u001b[33mConfig file config/config.yaml is extended by additional config specified via the command line.\u001b[0m\n",
      "\u001b[33mBuilding DAG of jobs...\u001b[0m\n",
      "\u001b[33mUsing shell: /usr/bin/bash\u001b[0m\n",
      "\u001b[33mProvided cores: 1 (use --cores to define parallelism)\u001b[0m\n",
      "\u001b[33mRules claiming more threads will be scaled down.\u001b[0m\n",
      "\u001b[33mConda environments: ignored\u001b[0m\n",
      "\u001b[33mSingularity containers: ignored\u001b[0m\n",
      "\u001b[33mJob stats:\n",
      "job      count\n",
      "-----  -------\n",
      "clean        1\n",
      "total        1\n",
      "\u001b[0m\n",
      "Checking user inputs...\n",
      "\u001b[33mSelect jobs to execute...\u001b[0m\n",
      "\u001b[33mComplete log: .snakemake/log/2023-08-06T211910.103038.snakemake.log\u001b[0m\n",
      "Workflow finished successfully!\n"
     ]
    }
   ],
   "source": [
    "!snakemake --cores 1  clean --configfile examples/2/config.yaml --quiet"
   ]
  },
  {
   "cell_type": "code",
   "execution_count": 47,
   "metadata": {
    "slideshow": {
     "slide_type": "fragment"
    }
   },
   "outputs": [
    {
     "name": "stdout",
     "output_type": "stream",
     "text": [
      "\u001b[33mConfig file config/config.yaml is extended by additional config specified via the command line.\u001b[0m\n",
      "\u001b[33mBuilding DAG of jobs...\u001b[0m\n",
      "\u001b[33mNothing to be done (all requested files are present and up to date).\u001b[0m\n",
      "Checking user inputs...\n",
      "\u001b[33mComplete log: .snakemake/log/2023-08-06T212157.929670.snakemake.log\u001b[0m\n",
      "Workflow finished successfully!\n"
     ]
    }
   ],
   "source": [
    "!snakemake --cores 1 --configfile examples/2/config.yaml --quiet"
   ]
  },
  {
   "cell_type": "markdown",
   "metadata": {
    "slideshow": {
     "slide_type": "subslide"
    }
   },
   "source": [
    "## View Results \n",
    "\n",
    "The global sensitivity analysis method used is Method of Morris (or elementary effects). \n",
    "This screening method produces three sensitivity measures, $mu$, $mu*$, and $\\sigma$.\n",
    "\n",
    "- $mu$ estimates the mean of the distribution of the elementary effects\n",
    "- $mu*$ estimates the mean of the distribution of the absolute elementary effects \n",
    "- $\\sigma$ (the standard deviation) provides an indication of the nonlinear effects and/or interactions with other factors\n",
    "\n",
    "The purpose of calculating $mu*$ in addition to $mu$ is that $mu$ may fail to identify a factor with considerable influence on the model. This can happen when both positive and negative effects are present, which are then cancelled out."
   ]
  },
  {
   "cell_type": "markdown",
   "metadata": {
    "slideshow": {
     "slide_type": "subslide"
    }
   },
   "source": [
    "### Tabular Results\n",
    "\n",
    "Tabluar results are found in the file [`results/0_summary/SA_objective.csv`](./results/0_summary/SA_objective.csv)"
   ]
  },
  {
   "cell_type": "code",
   "execution_count": 48,
   "metadata": {
    "slideshow": {
     "slide_type": "fragment"
    }
   },
   "outputs": [
    {
     "data": {
      "text/html": [
       "<div>\n",
       "<style scoped>\n",
       "    .dataframe tbody tr th:only-of-type {\n",
       "        vertical-align: middle;\n",
       "    }\n",
       "\n",
       "    .dataframe tbody tr th {\n",
       "        vertical-align: top;\n",
       "    }\n",
       "\n",
       "    .dataframe thead th {\n",
       "        text-align: right;\n",
       "    }\n",
       "</style>\n",
       "<table border=\"1\" class=\"dataframe\">\n",
       "  <thead>\n",
       "    <tr style=\"text-align: right;\">\n",
       "      <th></th>\n",
       "      <th>mu</th>\n",
       "      <th>mu_star</th>\n",
       "      <th>sigma</th>\n",
       "      <th>mu_star_conf</th>\n",
       "    </tr>\n",
       "  </thead>\n",
       "  <tbody>\n",
       "    <tr>\n",
       "      <th>capital</th>\n",
       "      <td>84367.020211</td>\n",
       "      <td>84367.020211</td>\n",
       "      <td>6.677589e-09</td>\n",
       "      <td>5.529651e-09</td>\n",
       "    </tr>\n",
       "    <tr>\n",
       "      <th>variable</th>\n",
       "      <td>23085.273193</td>\n",
       "      <td>23085.273193</td>\n",
       "      <td>1.442976e+03</td>\n",
       "      <td>1.042817e+03</td>\n",
       "    </tr>\n",
       "    <tr>\n",
       "      <th>IAR</th>\n",
       "      <td>23534.176950</td>\n",
       "      <td>23534.176950</td>\n",
       "      <td>1.818513e+03</td>\n",
       "      <td>1.484191e+03</td>\n",
       "    </tr>\n",
       "  </tbody>\n",
       "</table>\n",
       "</div>"
      ],
      "text/plain": [
       "                    mu       mu_star         sigma  mu_star_conf\n",
       "capital   84367.020211  84367.020211  6.677589e-09  5.529651e-09\n",
       "variable  23085.273193  23085.273193  1.442976e+03  1.042817e+03\n",
       "IAR       23534.176950  23534.176950  1.818513e+03  1.484191e+03"
      ]
     },
     "execution_count": 48,
     "metadata": {},
     "output_type": "execute_result"
    }
   ],
   "source": [
    "pd.read_csv(\"./results/0_summary/SA_objective.csv\", index_col=0)"
   ]
  },
  {
   "cell_type": "markdown",
   "metadata": {
    "slideshow": {
     "slide_type": "subslide"
    }
   },
   "source": [
    "### Graphical Results\n",
    "\n",
    "Graphical results are found in the file [`results/0_summary/SA_objective.png`](./results/0_summary/SA_objective.png)"
   ]
  },
  {
   "cell_type": "code",
   "execution_count": 49,
   "metadata": {
    "slideshow": {
     "slide_type": "subslide"
    }
   },
   "outputs": [
    {
     "data": {
      "image/png": "[encoded data removed]",
      "text/plain": [
       "<IPython.core.display.Image object>"
      ]
     },
     "execution_count": 49,
     "metadata": {},
     "output_type": "execute_result"
    }
   ],
   "source": [
    "display.Image(\"./results/0_summary/SA_objective.png\")"
   ]
  },
  {
   "cell_type": "markdown",
   "metadata": {
    "slideshow": {
     "slide_type": "notes"
    }
   },
   "source": [
    "### Interpreting Results\n",
    "\n",
    "Capital cost is the most influential factor, of the ones tested, on the total discounted cost of the system. There is no interaction between capital costs and variable costs or input activity ratio. Variable costs and the input activity ratio have non-linear effects and/or interact with each other. "
   ]
  },
  {
   "cell_type": "markdown",
   "metadata": {
    "slideshow": {
     "slide_type": "slide"
    }
   },
   "source": [
    "# Example 3\n",
    "\n",
    "In this example, it's now up to you to modify the sensitivity parameters ! "
   ]
  },
  {
   "cell_type": "markdown",
   "metadata": {
    "slideshow": {
     "slide_type": "subslide"
    }
   },
   "source": [
    "## Reference Energy System\n",
    "\n",
    "Our RES and included parameters will remain the same. \n",
    "\n",
    "![RES](./examples/figures/res.jpg)"
   ]
  },
  {
   "cell_type": "markdown",
   "metadata": {
    "slideshow": {
     "slide_type": "subslide"
    }
   },
   "source": [
    "### Modify the Configuration File\n",
    "\n",
    "Navigate to [`examples/3/parameters.csv`](./examples/3/parameters.csv) file and add sensitivity parameters. The available parameters to explore are shown below. Modify the configuration file values however you want ! \n",
    "\n",
    "|name |group|indexes|min_value_base_year|max_value_base_year|min_value_end_year|max_value_end_year|dist|interpolation_index|action|\n",
    "|-----|-----|-------|-------------------|-------------------|------------------|------------------|----|-------------------|------|\n",
    "|CapitalCost           |capital  |\"R1,NUCLEAR\"                |XXX |XXX |XXX |XXX |\"unif\" |\"YEAR\" |\"interpolate\" |\n",
    "|FixedCost             |fixed    |\"R1,NUCLEAR\"                |XXX |XXX |XXX |XXX |\"unif\" |\"YEAR\" |\"interpolate\" |\n",
    "|VariableCost          |variable |\"R1,MINE_URANIUM,1\"         |XXX |XXX |XXX |XXX |\"unif\" |\"YEAR\" |\"interpolate\" |\n",
    "|SpecifiedAnnualDemand |demand   |\"R1,ELECTRICITY\"            |XXX |XXX |XXX |XXX |\"unif\" |\"YEAR\" |\"interpolate\" |\n",
    "|InputActivityRatio    |iar      |\"R1,NUCLEAR,URANIUM,1\"      |XXX |XXX |XXX |XXX |\"unif\" |\"YEAR\" |\"interpolate\" |\n",
    "|OperationalLife       |oplife   |\"R1,NUCLEAR\"                |XXX |XXX |XXX |XXX |\"unif\" |\"YEAR\" |\"fixed\" |"
   ]
  },
  {
   "cell_type": "markdown",
   "metadata": {
    "slideshow": {
     "slide_type": "subslide"
    }
   },
   "source": [
    "### Run the Workflow"
   ]
  },
  {
   "cell_type": "code",
   "execution_count": null,
   "metadata": {},
   "outputs": [],
   "source": [
    "!cp -r ./examples/1/data ./examples/3/data"
   ]
  },
  {
   "cell_type": "code",
   "execution_count": null,
   "metadata": {
    "slideshow": {
     "slide_type": "fragment"
    }
   },
   "outputs": [],
   "source": [
    "!snakemake clean --cores 1 --configfile examples/3/config.yaml --quiet"
   ]
  },
  {
   "cell_type": "code",
   "execution_count": null,
   "metadata": {
    "slideshow": {
     "slide_type": "fragment"
    }
   },
   "outputs": [],
   "source": [
    "!snakemake --cores 1 --configfile examples/3/config.yaml --quiet"
   ]
  },
  {
   "cell_type": "markdown",
   "metadata": {
    "slideshow": {
     "slide_type": "skip"
    }
   },
   "source": [
    "### View Results"
   ]
  },
  {
   "cell_type": "code",
   "execution_count": null,
   "metadata": {
    "slideshow": {
     "slide_type": "skip"
    }
   },
   "outputs": [],
   "source": [
    "pd.read_csv(\"./results/0_summary/SA_objective.csv\", index_col=0)"
   ]
  },
  {
   "cell_type": "code",
   "execution_count": null,
   "metadata": {
    "slideshow": {
     "slide_type": "skip"
    }
   },
   "outputs": [],
   "source": [
    "display.Image(\"./results/0_summary/SA_objective.png\")"
   ]
  },
  {
   "cell_type": "markdown",
   "metadata": {
    "slideshow": {
     "slide_type": "slide"
    }
   },
   "source": [
    "# Summary "
   ]
  },
  {
   "cell_type": "markdown",
   "metadata": {
    "slideshow": {
     "slide_type": "subslide"
    }
   },
   "source": [
    "In this tutorial we have explored how global sensitivity analysis can be applied to very simple energy system optimization model. We applied the Method of Morris to identify influential parameters and parameters that have non-linear and/or interaction with other parameters. In comparison to local sensitivity analysis, global sensitivity analysis allows us explore a wide array of the solution space and identify the important factors. \n",
    "\n",
    "During this tutorial, we looked at the sensitivity of one out, total discounted system cost, but we can perform sensitivity analysis for any model output variable of interest. For example, installed capacity, emissions or production. \n",
    "\n",
    "We used the Method of Morris to conduct the sensitivity analysis as it allows us to extract sufficient preliminary information with minimal model runs. This is beneficial as energy system optimization models can often have multi-hour run times. Other variance based global sensitivity methods, including those provided by the Python library SALib, can provide more information into the behaviour of the model, with the caveat that this often requires more model runs."
   ]
  }
 ],
 "metadata": {
  "celltoolbar": "Slideshow",
  "kernelspec": {
   "display_name": "Python 3 (ipykernel)",
   "language": "python",
   "name": "python3"
  },
  "language_info": {
   "codemirror_mode": {
    "name": "ipython",
    "version": 3
   },
   "file_extension": ".py",
   "mimetype": "text/x-python",
   "name": "python",
   "nbconvert_exporter": "python",
   "pygments_lexer": "ipython3",
   "version": "3.9.17"
  },
  "vscode": {
   "interpreter": {
    "hash": "f0f8c7ae30e7392bb8cd183c79221a78b2c2aa0222e944f52c7e91613af78833"
   }
  }
 },
 "nbformat": 4,
 "nbformat_minor": 2
}
