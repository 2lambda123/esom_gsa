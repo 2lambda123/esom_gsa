{
 "cells": [
  {
   "cell_type": "code",
   "execution_count": null,
   "metadata": {},
   "outputs": [],
   "source": [
    "import pandas as pd\n",
    "import SALib\n",
    "from pathlib import Path\n",
    "import os\n",
    "import subprocess\n",
    "import sys\n",
    "import matplotlib.pyplot as plt"
   ]
  },
  {
   "cell_type": "markdown",
   "metadata": {},
   "source": [
    "To view this notebook as slides, run `jupyter nbconvert examples/example.ipynb --to slides --post serve` on the command line"
   ]
  },
  {
   "cell_type": "markdown",
   "metadata": {},
   "source": [
    "# ECEMP Skills Workshop: Global Sensitivity Analysis\n",
    "\n",
    "- Will Usher, KTH Royal Institute of Technology\n",
    "- Trevor Barnes, Simon Fraser University"
   ]
  },
  {
   "cell_type": "markdown",
   "metadata": {},
   "source": [
    "# Introduction"
   ]
  },
  {
   "cell_type": "markdown",
   "metadata": {},
   "source": [
    "# What is global sensitivity analysis?\n",
    "\n",
    "- Global sensitivity analysis is “*the study of how uncertainty in the output of a model...can be apportioned to different sources of uncertainty in the model input*”. \n",
    "- “Global” means that all parameters are moved over their input ranges at the same time.\n",
    "- By contrast, in one-at-a-time (OAT) sensitivity analysis, only one dimension of the model input space is explored while holding all other dimensions at their central value.\n",
    "- An excellent introduction to global sensitivity analysis can be found in Saltelli (2007)."
   ]
  },
  {
   "cell_type": "markdown",
   "metadata": {},
   "source": [
    "# Why perform global sensitivity analysis?\n",
    "\n",
    "- Most energy system optimisation modelling studies use scenario analysis\n",
    "- Global sensitivity analysis can supplement and support scenario analysis\n",
    "  - identify key drivers of model results (factor prioritisation)\n",
    "  - identify unimportant parameters (factor fixing)\n",
    "  - identify interesting areas of the input space (factor mapping)"
   ]
  },
  {
   "cell_type": "markdown",
   "metadata": {},
   "source": [
    "When models are used in a static manner, for example when influential parameters are held near a constant central value, these aspects of optimisation models – the apparent redundancy of parameters, lack of interaction effects and non-linear behaviour, may induce modellers to overlook parametric uncertainty. For example, modellers understandably tend to neglect the dimensions of the input space that are not represented in the results, resulting in parts of the model going “stale” as assumptions are not revisited or refreshed. On the other hand, modellers will commit a lot of attention to the parameters associated with technologies that do appear in the model results, even if those parameters are less influential than one of the static parameters."
   ]
  },
  {
   "cell_type": "markdown",
   "metadata": {},
   "source": [
    "## Methods for conducting global sensitivity analysis\n",
    "\n",
    "Variance-based approaches compute the proportion of the variance in the output that is explained by variation in the input. \n",
    "\n",
    "- Computation of a first-order (only the direct effect) and total-order (direct and interaction effects) index for each input recovers all interaction and non-linear effects of a model. \n",
    "- Variance-based approaches require a relatively large number \\$(500(k+2))\\$ of model runs.\n",
    "\n",
    "Elementary effects test, or “Method of Morris” lowers computationally needs \\$(10(k+1))\\$ by computing an average of local derivatives over a discrete space of input parameters.\n",
    "\n",
    "- It provides an estimate for the total-order index produced by more advanced variance-based approaches \n",
    "- can be applied to groups of inputs to increase coverage and reduce computational demands."
   ]
  },
  {
   "cell_type": "markdown",
   "metadata": {},
   "source": [
    "# References\n",
    "\n",
    "Andrea Saltelli, Marco Ratto, Terry Andres, Francesca Campolongo, Jessica Cariboni, Debora Gatelli, Michaela Saisana, and Stefano Tarantola. Global Sensitivity Analysis. The Primer. 1st ed. John Wiley & Sons, Ltd, 2007. https://doi.org/10.1002/9780470725184.\n"
   ]
  },
  {
   "cell_type": "markdown",
   "metadata": {},
   "source": [
    "# Examples"
   ]
  },
  {
   "cell_type": "markdown",
   "metadata": {},
   "source": [
    "## Example One\n",
    "\n",
    "In this example, we will first show build a simple model and perform \n",
    "**LOCAL** sensitivity analysis"
   ]
  },
  {
   "cell_type": "markdown",
   "metadata": {},
   "source": [
    "### Reference Energy System\n",
    "\n",
    "Consider the simple energy system optimization model below. It includes:\n",
    "\n",
    "- A mining technology for uranium\n",
    "- A nuclear power generation technology\n",
    "- Uranium fuel\n",
    "- Electricity fuel\n",
    "\n",
    "![RES](./assets/Example_One/RES.PNG)"
   ]
  },
  {
   "cell_type": "markdown",
   "metadata": {},
   "source": [
    "### Input Data\n",
    "\n",
    "Lets first create structural input data for the model"
   ]
  },
  {
   "cell_type": "code",
   "execution_count": null,
   "metadata": {},
   "outputs": [],
   "source": [
    "# REFERENCE ONLY. \n",
    "# DATA ALREADY CREATED. \n",
    "# DO NOT CHANGE\n",
    "data_dir = Path('assets/Example_One/')\n",
    "\n",
    "YEARS = range(2020, 2070)\n",
    "TECHNOLOGIES = ['MINE_URANIUM', 'NUCLEAR']\n",
    "FUELS = ['URANIUM', 'ELECTRICITY']\n",
    "REGIONS = ['R1']\n",
    "TIME_SLICE = ['S1D1', 'S1D2', 'S2D1', 'S2D2','S3D1','S3D2','S4D1','S4D2']\n",
    "YEAR_SPLIT = 0.125\n",
    "MODES = [1]"
   ]
  },
  {
   "cell_type": "markdown",
   "metadata": {},
   "source": [
    "#### Add Capital Costs"
   ]
  },
  {
   "cell_type": "code",
   "execution_count": null,
   "metadata": {},
   "outputs": [],
   "source": [
    "def add_capex(cost):\n",
    "    years = range(2020, 2070)\n",
    "    df = pd.DataFrame(\n",
    "        [['R1', 'NUCLEAR', years[0], cost]] * len(years), \n",
    "        columns=['REGION', 'TECHNOLOGY', 'YEAR', 'VALUE'])\n",
    "    df['YEAR'] = years\n",
    "    df.to_csv(Path(data_dir, 'data', 'CapitalCost.csv'), index=False)\n",
    "    return df"
   ]
  },
  {
   "cell_type": "code",
   "execution_count": null,
   "metadata": {},
   "outputs": [],
   "source": [
    "capex = 4000 # M$ / GW\n",
    "add_capex(capex).head()"
   ]
  },
  {
   "cell_type": "markdown",
   "metadata": {},
   "source": [
    "#### Add Fixed Operational Costs"
   ]
  },
  {
   "cell_type": "code",
   "execution_count": null,
   "metadata": {},
   "outputs": [],
   "source": [
    "def add_fixed(cost):\n",
    "    years = range(2020, 2070)\n",
    "    df = pd.DataFrame(\n",
    "        [['R1', 'NUCLEAR', YEARS[0], cost]] * len(YEARS), \n",
    "        columns=['REGION', 'TECHNOLOGY', 'YEAR', 'VALUE'])\n",
    "    df['YEAR'] = YEARS\n",
    "    df.to_csv(Path(data_dir, 'data', 'FixedCost.csv'), index=False)\n",
    "    return df"
   ]
  },
  {
   "cell_type": "code",
   "execution_count": null,
   "metadata": {},
   "outputs": [],
   "source": [
    "fixed = 50 # M$ / GW\n",
    "add_fixed(fixed).head()"
   ]
  },
  {
   "cell_type": "markdown",
   "metadata": {},
   "source": [
    "#### Add Variable Costs"
   ]
  },
  {
   "cell_type": "code",
   "execution_count": null,
   "metadata": {},
   "outputs": [],
   "source": [
    "def add_variable(cost):\n",
    "    years = range(2020, 2070)\n",
    "    df = pd.DataFrame(\n",
    "        [['R1', 'MINE_URANIUM', 1, years[0], cost]] * len(YEARS), \n",
    "        columns=['REGION','TECHNOLOGY','MODE_OF_OPERATION','YEAR','VALUE'])\n",
    "    df['YEAR'] = YEARS\n",
    "    df.to_csv(Path(data_dir, 'data', 'VariableCost.csv'), index=False)\n",
    "    return df"
   ]
  },
  {
   "cell_type": "code",
   "execution_count": null,
   "metadata": {},
   "outputs": [],
   "source": [
    "variable = 2.5 # M$ / PJ\n",
    "add_variable(variable).head()"
   ]
  },
  {
   "cell_type": "markdown",
   "metadata": {},
   "source": [
    "#### Add Nuclear Power Plant Efficiency "
   ]
  },
  {
   "cell_type": "code",
   "execution_count": null,
   "metadata": {},
   "outputs": [],
   "source": [
    "def add_efficiency(eff):\n",
    "    years = range(2020, 2070)\n",
    "    df = pd.DataFrame(\n",
    "        [['R1', 'NUCLEAR', 'URANIUM', 1, years[0], eff]] * len(years), \n",
    "        columns=['REGION','TECHNOLOGY','FUEL','MODE_OF_OPERATION','YEAR','VALUE'])\n",
    "    df['YEAR'] = years\n",
    "    df.to_csv(Path(data_dir, 'data', 'InputActivityRatio.csv'), index=False)\n",
    "    return df"
   ]
  },
  {
   "cell_type": "code",
   "execution_count": null,
   "metadata": {},
   "outputs": [],
   "source": [
    "eff = 1.25 # 80 %\n",
    "add_efficiency(eff).head()"
   ]
  },
  {
   "cell_type": "markdown",
   "metadata": {},
   "source": [
    "#### Add Demand"
   ]
  },
  {
   "cell_type": "code",
   "execution_count": null,
   "metadata": {},
   "outputs": [],
   "source": [
    "def add_demand(start_value, yearly_increase):\n",
    "    demand_data = []\n",
    "    for year in range(2020, 2070):\n",
    "        demand_data.append([\n",
    "            'R1', \n",
    "            'ELECTRICITY',\n",
    "            year,\n",
    "            start_value*(1+yearly_increase)**(year-YEARS[0])\n",
    "        ])\n",
    "    df = pd.DataFrame(demand_data, columns=['REGION','FUEL','YEAR','VALUE'])\n",
    "    df.to_csv(Path(data_dir, 'data', 'SpecifiedAnnualDemand.csv'), index=False)\n",
    "    return df"
   ]
  },
  {
   "cell_type": "code",
   "execution_count": null,
   "metadata": {},
   "outputs": [],
   "source": [
    "start_value = 1000 # PJ\n",
    "yearly_increase = 0.05 # %\n",
    "add_demand(start_value, yearly_increase).head()"
   ]
  },
  {
   "cell_type": "markdown",
   "metadata": {},
   "source": [
    "#### Add Operational Life"
   ]
  },
  {
   "cell_type": "code",
   "execution_count": null,
   "metadata": {},
   "outputs": [],
   "source": [
    "def add_operational_life(op_life):\n",
    "    df = pd.DataFrame([['R1','NUCLEAR',op_life]], columns=['REGION','TECHNOLOGY','VALUE'])\n",
    "    df.to_csv(Path(data_dir, 'data', 'OperationalLife.csv'), index=False)\n",
    "    return df"
   ]
  },
  {
   "cell_type": "code",
   "execution_count": null,
   "metadata": {},
   "outputs": [],
   "source": [
    "op_life = 50 # years\n",
    "add_operational_life(op_life).head()"
   ]
  },
  {
   "cell_type": "markdown",
   "metadata": {},
   "source": [
    "### One-at-a-time Sensitivity Analysis"
   ]
  },
  {
   "cell_type": "markdown",
   "metadata": {},
   "source": [
    "Run the model with the baseline input parameters and get a reference objective value"
   ]
  },
  {
   "cell_type": "code",
   "execution_count": null,
   "metadata": {},
   "outputs": [],
   "source": [
    "def run_model(path_to_data_dir, path_to_model_file, result_file_name):\n",
    "    os.system(\n",
    "        'otoole convert datapackage datafile {} {}' .format(\n",
    "            Path(path_to_data_dir,'datapackage.json'), \n",
    "            Path(path_to_data_dir,'data.txt')\n",
    "        )\n",
    "    )\n",
    "    os.system(\n",
    "        'glpsol -m {} -d {} --wlp {} --check' .format(\n",
    "            Path(path_to_model_file),\n",
    "            Path(path_to_data_dir,'data.txt'),\n",
    "            Path(path_to_data_dir,'model.lp'),\n",
    "        )\n",
    "    )\n",
    "    os.system(\n",
    "        'cbc {} solve -solu {}' .format(\n",
    "            Path(path_to_data_dir,'model.lp'),\n",
    "            Path(path_to_data_dir,result_file_name)\n",
    "        )\n",
    "    )\n",
    "\n",
    "def get_objective_value(result_files):\n",
    "    for result_file in result_files:\n",
    "        print(f'{result_file.name}')\n",
    "        os.system('head -1 {}' .format(Path(result_file)))"
   ]
  },
  {
   "cell_type": "code",
   "execution_count": null,
   "metadata": {},
   "outputs": [],
   "source": [
    "run_model(data_dir, '../resources/osemosys.txt', 'baseline.txt')\n",
    "get_objective_value([Path(data_dir, 'baseline.txt')])"
   ]
  },
  {
   "cell_type": "markdown",
   "metadata": {},
   "source": [
    "Now that we have got a basline objective value ($572721), we would choose a parmaeter to alter a few times to understand how it effects the overall objective value"
   ]
  },
  {
   "cell_type": "code",
   "execution_count": null,
   "metadata": {},
   "outputs": [],
   "source": [
    "result_files = []\n",
    "\n",
    "# Iterate over capital cost\n",
    "capital_costs = [2500, 3000, 3500, 4500, 5000]\n",
    "for capital_cost in capital_costs:\n",
    "    add_capex(capital_cost)\n",
    "    result_file = f'capex_{capital_cost}.txt'\n",
    "    result_files.append(Path(data_dir, result_file))\n",
    "    run_model(data_dir, '../resources/osemosys.txt', result_file)\n",
    "\n",
    "# resest to origianl capital cost\n",
    "add_capex(4000)\n",
    "\n",
    "# Iterate over variable cost\n",
    "var_costs = [1.5, 2.0, 3.0, 3.5, 4.0]\n",
    "for var_cost in var_costs:\n",
    "    add_variable(var_cost)\n",
    "    result_file = f'var_cost_{var_cost}.txt'\n",
    "    result_files.append(Path(data_dir, result_file))\n",
    "    run_model(data_dir, '../resources/osemosys.txt', result_file)\n",
    "\n",
    "# reset to original variable cost\n",
    "add_variable(2.5)"
   ]
  },
  {
   "cell_type": "code",
   "execution_count": null,
   "metadata": {},
   "outputs": [],
   "source": [
    "get_objective_value(result_files)"
   ]
  },
  {
   "cell_type": "markdown",
   "metadata": {},
   "source": [
    "Create simple plots to see how the costs change with parameters"
   ]
  },
  {
   "cell_type": "code",
   "execution_count": null,
   "metadata": {},
   "outputs": [],
   "source": [
    "df_capex = pd.DataFrame([\n",
    "    [2500, 446506],\n",
    "    [3000, 488577],\n",
    "    [3500, 530649],\n",
    "    [4000, 572721],\n",
    "    [4500, 614793],\n",
    "    [5000, 656865],\n",
    "], columns=['Capex', 'Objective_Cost']).set_index('Capex')\n",
    "\n",
    "df_var = pd.DataFrame([\n",
    "    [1.5, 511727],\n",
    "    [2.0, 542224],\n",
    "    [2.5, 572721],\n",
    "    [3.0, 603218],\n",
    "    [3.5, 633715],\n",
    "    [4.0, 664212],\n",
    "], columns=['Var_Cost', 'Objective_Cost']).set_index('Var_Cost')\n",
    "\n",
    "fig, axs = plt.subplots(1,2, figsize=(14,5), sharey=True)\n",
    "df_capex.plot(ax=axs[0], marker='o', title='Effects of Capital Cost', xlabel='Capital Cost (M$/GW)', ylabel='Objective Cost (M$)')\n",
    "df_var.plot(ax=axs[1], marker='o', title='Effects of Variable Cost', xlabel='Variable Cost (M$/PJ)', ylabel='Objective Cost (M$)')"
   ]
  },
  {
   "cell_type": "markdown",
   "metadata": {},
   "source": [
    "### Problems with local sensitivity analysis\n",
    "\n",
    "- Does not capture interactions\n",
    "- Difficult to understand what parameter is more influential on results"
   ]
  },
  {
   "cell_type": "markdown",
   "metadata": {},
   "source": [
    "## Example Two "
   ]
  },
  {
   "cell_type": "markdown",
   "metadata": {},
   "source": [
    "We will repeat example one, except employ **GLOBAL** sensitivity analysis using\n",
    "the Method of Morris. This will be done through an automated workflow. "
   ]
  },
  {
   "cell_type": "markdown",
   "metadata": {},
   "source": [
    "### Reference Energy Systen\n",
    "\n",
    "Our RES remains the same. It includes:\n",
    "- A mining technology for uranium\n",
    "- A nuclear power generation technology\n",
    "- Uranium fuel\n",
    "- Electricity fuel\n",
    "\n",
    "![RES](examples/assets/Example_One/RES.PNG)"
   ]
  },
  {
   "cell_type": "markdown",
   "metadata": {},
   "source": [
    "## Introduce the workflow\n",
    "\n",
    "1. Update config files\n",
    "2. Run the workflow\n",
    "3. Assess results\n",
    "\n",
    "### Update a configuration files"
   ]
  },
  {
   "cell_type": "markdown",
   "metadata": {},
   "source": [
    "Navigate to `config/scenarios.csv` file and update it to match the following:\n",
    "\n",
    "\n",
    "| name | description      | path                             |\n",
    "|------|------------------|----------------------------------|\n",
    "|0     | \"Simple Example\" | examples/assets/datapackage.json |"
   ]
  },
  {
   "cell_type": "markdown",
   "metadata": {},
   "source": [
    "Navigate to [`config/parameters.csv`](../edit/config/parameters.csv) file and update it to match the following:\n",
    "\n",
    "|name |group|indexes|min_value_base_year|max_value_base_year|min_value_end_year|max_value_end_year|dist|interpolation_index|action|\n",
    "|-----|-----|-------|-------------------|-------------------|------------------|------------------|----|-------------------|------|\n",
    "|CapitalCost  |capital  |\"R1,NUCLEAR\"        |4000 |5000 |2000 |3000 |\"unif\" |\"YEAR\" |\"interpolate\" |\n",
    "|VariableCost |variable |\"R1,MINE_URANIUM,1\" |3.5  |4.0  |1.5  |1.75 |\"unif\" |\"YEAR\" |\"interpolate\" |"
   ]
  },
  {
   "cell_type": "markdown",
   "metadata": {},
   "source": [
    "In this table, we are specifying one of these three different methods for interpolating values over time. \n",
    "\n",
    "![GSA_options](examples/assets/Example_One/GSA_options.PNG)"
   ]
  },
  {
   "cell_type": "markdown",
   "metadata": {},
   "source": [
    "### Run the Workflow"
   ]
  },
  {
   "cell_type": "code",
   "execution_count": null,
   "metadata": {},
   "outputs": [],
   "source": [
    "def clean_snakemake():\n",
    "    wd = sys.path[0]\n",
    "    os.chdir(wd)\n",
    "    subprocess.Popen(\"snakemake --cores 4 clean\", cwd=\"..\", shell=True)\n",
    "def run_snakemake():\n",
    "    wd = sys.path[0]\n",
    "    os.chdir(wd)\n",
    "    subprocess.Popen(\"snakemake --cores 4\", cwd=\"..\", shell=True)\n",
    "\n",
    "clean_snakemake()\n",
    "run_snakemake()"
   ]
  },
  {
   "cell_type": "code",
   "execution_count": null,
   "metadata": {},
   "outputs": [],
   "source": [
    "!snakemake --cores 4"
   ]
  },
  {
   "cell_type": "code",
   "execution_count": null,
   "metadata": {},
   "outputs": [],
   "source": [
    "!ls\n"
   ]
  },
  {
   "cell_type": "code",
   "execution_count": null,
   "metadata": {},
   "outputs": [],
   "source": []
  }
 ],
 "metadata": {
  "celltoolbar": "Slideshow",
  "kernelspec": {
   "display_name": "Python 3 (ipykernel)",
   "language": "python",
   "name": "python3"
  },
  "language_info": {
   "codemirror_mode": {
    "name": "ipython",
    "version": 3
   },
   "file_extension": ".py",
   "mimetype": "text/x-python",
   "name": "python",
   "nbconvert_exporter": "python",
   "pygments_lexer": "ipython3"
  },
  "vscode": {
   "interpreter": {
    "hash": "b93cd6f2f4c0fa0206bbda95dee9346b0b1d12c2875b491cd680bb32bc7d3c94"
   }
  }
 },
 "nbformat": 4,
 "nbformat_minor": 2
}
