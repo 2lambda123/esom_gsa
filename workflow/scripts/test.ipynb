{
 "cells": [
  {
   "cell_type": "code",
   "execution_count": 1,
   "metadata": {},
   "outputs": [],
   "source": [
    "import pandas as pd\n",
    "import numpy as np"
   ]
  },
  {
   "cell_type": "code",
   "execution_count": 13,
   "metadata": {},
   "outputs": [
    {
     "data": {
      "text/plain": [
       "array([104228.62982, 104228.62982, 104228.62982, 104228.62982,\n",
       "       104228.62982, 104228.62982, 104228.62982, 104228.62982,\n",
       "       104228.62982, 104228.62982, 104228.62982, 104228.62982,\n",
       "       104228.62982, 104228.62982, 104228.62982, 104228.62982,\n",
       "       104228.62982, 104228.62982, 104228.62982, 104228.62982,\n",
       "       104228.62982, 104228.62982, 104228.62982, 104228.62982,\n",
       "       104228.62982, 104228.62982, 104228.62982, 104228.62982,\n",
       "       104228.62982, 104228.62982, 104228.62982, 104228.62982,\n",
       "       104228.62982, 104228.62982, 104228.62982, 104228.62982,\n",
       "       104228.62982, 104228.62982, 104228.62982, 104228.62982,\n",
       "       104228.62982, 104228.62982, 104228.62982, 104228.62982,\n",
       "       104228.62982, 104228.62982, 104228.62982, 104228.62982,\n",
       "       104228.62982, 104228.62982])"
      ]
     },
     "execution_count": 13,
     "metadata": {},
     "output_type": "execute_result"
    }
   ],
   "source": [
    "df = pd.read_csv('../../results/0_summary/annual_capacity.csv')\n",
    "df = df.groupby(by=['MODELRUN']).sum().reset_index()\n",
    "df['NUM'] = df['MODELRUN'].map(lambda x: int(x.split('_')[1]))\n",
    "df = df.sort_values(by='NUM').reset_index(drop=True).drop(('NUM'), axis=1)\n",
    "df['VALUE'].to_numpy()"
   ]
  }
 ],
 "metadata": {
  "kernelspec": {
   "display_name": "Python 3.10.4 ('gsa')",
   "language": "python",
   "name": "python3"
  },
  "language_info": {
   "codemirror_mode": {
    "name": "ipython",
    "version": 3
   },
   "file_extension": ".py",
   "mimetype": "text/x-python",
   "name": "python",
   "nbconvert_exporter": "python",
   "pygments_lexer": "ipython3",
   "version": "3.10.4"
  },
  "orig_nbformat": 4,
  "vscode": {
   "interpreter": {
    "hash": "b93cd6f2f4c0fa0206bbda95dee9346b0b1d12c2875b491cd680bb32bc7d3c94"
   }
  }
 },
 "nbformat": 4,
 "nbformat_minor": 2
}
